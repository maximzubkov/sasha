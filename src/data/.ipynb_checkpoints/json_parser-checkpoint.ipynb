{
 "cells": [
  {
   "cell_type": "code",
   "execution_count": 18,
   "metadata": {},
   "outputs": [],
   "source": [
    "import json\n",
    "import os\n",
    "datastore = []\n",
    "with open(os.getcwd() + '/objects.json', 'r') as f:\n",
    "    datastore = json.load(f)"
   ]
  },
  {
   "cell_type": "code",
   "execution_count": 31,
   "metadata": {},
   "outputs": [],
   "source": [
    "important_keys = [\"year\", \"text\", \"path\", \"year\", \"get_year\", \"type\", \"country\", \"period\"]\n",
    "important_data = {}\n",
    "for ind in datastore.keys():\n",
    "    important_data[ind] = {}\n",
    "    for imp_key in important_keys:\n",
    "        important_data[ind][imp_key] = datastore[ind][imp_key]"
   ]
  },
  {
   "cell_type": "code",
   "execution_count": 33,
   "metadata": {},
   "outputs": [
    {
     "data": {
      "text/plain": [
       "{'path': 'data/fonds/ancient_east/1_1_a/1_1_a_4679/index.php',\n",
       " 'm_parent_id': '3461',\n",
       " 'year': -3535,\n",
       " 'get_year': '1911',\n",
       " 'inv_num': 'I.1.a 4679',\n",
       " 'type': {'ru': 'Археология', 'en': 'Archeology'},\n",
       " 'country': {'ru': 'Египет', 'en': 'Egypt'},\n",
       " 'period': {'name': {'ru': 'Период не известен', 'en': 'Unknown period'},\n",
       "  'text': {'ru': 'Додинастический период, IV тыс. до н. э.',\n",
       "   'en': 'Predynastic period, IV Mill. B. C.'}},\n",
       " 'paint_school': '',\n",
       " 'graphics_type': '',\n",
       " 'department': '79',\n",
       " 'masterpiece': '0',\n",
       " 'show_in_hall': '1',\n",
       " 'show_in_collection': 1,\n",
       " 'name': {'ru': 'Палетка в форме страуса', 'en': 'Ostrich-shaped palette'},\n",
       " 'namecom': {'ru': '', 'en': ''},\n",
       " 'size': {'ru': 'Высота 17,5 см; ширина 11 см', 'en': 'H. 17,5 cm; w. 11 cm'},\n",
       " 'text': {'ru': '<p>Палетками египтологи называют плоские каменные пластины для растирания косметических красок для глаз. В Древнем Египте краска для глаз имела одновременно магическое и утилитарное значение &ndash; она была призвана не только сделать глаза более привлекательными, но и защитить их от злых сил и распространенных в Египте глазных болезней, вызываемых ветром, пылью, ярким солнцем и насекомыми.</p><p>Палетки были предназначены, прежде всего, для растирания зеленой малахитовой краски. Зеленый цвет для древних египтян был связан с идеей возрождения и плодородия. Помимо малахита использовали также галенит (свинцовый блеск), гематит, красную охру. Минералы смешивали с бегеновым маслом, получаемым из плодов моринги (дерева, произраставшего в Египте и Восточном Средиземноморье), говяжьим жиром, пчелиным воском, иногда с ароматическими веществами. Для растирания краски применяли гальки из яшмы, которые часто находят рядом. Палетки нередко несут на себе следы работы &ndash; царапины, потертости, остатки пигментов, &ndash; что говорит об их использовании в повседневной жизни перед тем, как они были помещены в погребение. Практически все известные палетки были найдены в захоронениях, причем в большинстве случаев небогатых. Обычно их помещали рядом с руками или лицом умершего. Часто их находят и в погребениях женщин.</p><p>В собрании ГМИИ можно видеть палетки в форме рыбы, птицы (сокола), черепахи, слона, лодки, щита. Они изготовлены в силуэтной технике. Внутренние детали в них не проработаны или лаконично переданы врезанными линиями, как, например, на палетке в форме рыбы. Глаза обычно инкрустированы раковиной или костью. В некоторых случаях на палетках имеется отверстие для подвешивания.</p>',\n",
       "  'en': '<p>In Egyptology a palette is a flat stone plate used for grinding dry cosmetic paints for eyes. In Ancient<br />Egypt eye paint had both practical and magical properties &ndash; it not only made the eyes more attractive, but<br />also was believed to protect them from evil forces and eye diseases that were widely spread in Egypt due<br />to wind, dust, bright sunlight, and insects.<br />The collection of the State Museum of Fine Arts features palettes shaped as a fish, a bird (falcon), a turtle,<br />an elephant, a boat, and a shield all created in the silhouette technique. The internal details are poorly<br />developed or are laconically drafted with carved lines (as, for example, in the fish-shaped palette). Eyes<br />are often encrusted with shells or bone. Some palettes had a hole for hanging.</p>'},\n",
       " 'annotation': {'ru': '', 'en': ''},\n",
       " 'litra': {'ru': '', 'en': ''},\n",
       " 'restor': {'ru': '', 'en': ''},\n",
       " 'audioguide': {'ru': '', 'en': ''},\n",
       " 'videoguide': {'ru': '', 'en': ''},\n",
       " 'link': {'ru': '', 'en': ''},\n",
       " 'linktext': {'ru': '', 'en': ''},\n",
       " 'producein': {'ru': '', 'en': ''},\n",
       " 'material': {'ru': 'граувакка', 'en': 'graywacke'},\n",
       " 'from': {'ru': 'Голенищев Владимир Семенович', 'en': 'Vladimir Golenischev'},\n",
       " 'matvos': {'ru': '', 'en': ''},\n",
       " 'sizevos': {'ru': '', 'en': ''},\n",
       " 'prodcast': {'ru': '', 'en': ''},\n",
       " 'searcha': {'ru': '', 'en': ''},\n",
       " 'seakeys': {'ru': 'Палетка в форме страуса', 'en': 'Палетка в форме страуса'},\n",
       " 'hall': '186',\n",
       " 'building': '116',\n",
       " 'gallery': {'1': {'id01': '/data/fonds/ancient_east/1_1_a/1_1_a_4679/3666_foto_1_01.jpg',\n",
       "   'id02': '/data/fonds/ancient_east/1_1_a/1_1_a_4679/3666_foto_1_02.jpg',\n",
       "   'id03': '/data/fonds/ancient_east/1_1_a/1_1_a_4679/3666_foto_1_03.jpg'}},\n",
       " 'authors': '',\n",
       " 'collectors': {'1': {'auth_year': '0',\n",
       "   'ru': 'Голенищев Владимир Семенович',\n",
       "   'en': 'Vladimir Golenischev'}},\n",
       " 'cast': '0',\n",
       " 'shop': '',\n",
       " 'sortID': 0}"
      ]
     },
     "execution_count": 33,
     "metadata": {},
     "output_type": "execute_result"
    }
   ],
   "source": [
    "datastore[\"3666\"]"
   ]
  },
  {
   "cell_type": "code",
   "execution_count": null,
   "metadata": {},
   "outputs": [],
   "source": []
  }
 ],
 "metadata": {
  "kernelspec": {
   "display_name": "Python 3",
   "language": "python",
   "name": "python3"
  },
  "language_info": {
   "codemirror_mode": {
    "name": "ipython",
    "version": 3
   },
   "file_extension": ".py",
   "mimetype": "text/x-python",
   "name": "python",
   "nbconvert_exporter": "python",
   "pygments_lexer": "ipython3",
   "version": "3.7.3"
  }
 },
 "nbformat": 4,
 "nbformat_minor": 2
}
