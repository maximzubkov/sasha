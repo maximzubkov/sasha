{
 "cells": [
  {
   "cell_type": "code",
   "execution_count": 1,
   "metadata": {},
   "outputs": [],
   "source": [
    "import json\n",
    "import os\n",
    "import pandas as pd"
   ]
  },
  {
   "cell_type": "markdown",
   "metadata": {},
   "source": [
    "### Objects"
   ]
  },
  {
   "cell_type": "code",
   "execution_count": 2,
   "metadata": {},
   "outputs": [],
   "source": [
    "df = pd.read_json('./parsed/objects_rus.json')"
   ]
  },
  {
   "cell_type": "code",
   "execution_count": 5,
   "metadata": {},
   "outputs": [
    {
     "ename": "NameError",
     "evalue": "name 'text' is not defined",
     "output_type": "error",
     "traceback": [
      "\u001b[0;31m---------------------------------------------------------------------------\u001b[0m",
      "\u001b[0;31mNameError\u001b[0m                                 Traceback (most recent call last)",
      "\u001b[0;32m<ipython-input-5-5d407df7ba3c>\u001b[0m in \u001b[0;36m<module>\u001b[0;34m()\u001b[0m\n\u001b[0;32m----> 1\u001b[0;31m \u001b[0mdf\u001b[0m\u001b[0;34m.\u001b[0m\u001b[0mT\u001b[0m\u001b[0;34m[\u001b[0m\u001b[0mtext\u001b[0m\u001b[0;34m]\u001b[0m\u001b[0;34m[\u001b[0m\u001b[0;36m3666\u001b[0m\u001b[0;34m]\u001b[0m\u001b[0;34m\u001b[0m\u001b[0m\n\u001b[0m",
      "\u001b[0;31mNameError\u001b[0m: name 'text' is not defined"
     ]
    }
   ],
   "source": [
    "df.T['text][3666]"
   ]
  },
  {
   "cell_type": "code",
   "execution_count": 3,
   "metadata": {},
   "outputs": [],
   "source": [
    "df = pd.read_json('./old/objects.json').T[['get_year', \"gallery\" ,'hall', 'litra', 'm_parent_id', 'masterpiece', 'material', 'name', 'origplace','paint_school', 'path', 'period', 'producein', 'restor', 'seakeys', 'show_in_collection', 'show_in_hall', 'size', 'text', 'type', 'year']]"
   ]
  },
  {
   "cell_type": "code",
   "execution_count": 4,
   "metadata": {},
   "outputs": [],
   "source": [
    "df_ru = df.copy()\n",
    "df_ru[\"litra\"] = df_ru['litra'].apply(lambda x: x[\"ru\"])\n",
    "df_ru[\"material\"] = df_ru['material'].apply(lambda x: x[\"ru\"])\n",
    "df_ru[\"name\"] = df_ru['name'].apply(lambda x: x[\"ru\"])\n",
    "df_ru[\"paint_school\"] = df_ru['paint_school'].apply(lambda x: x[\"ru\"] if x else \"\")\n",
    "df_ru[\"producein\"] = df_ru['producein'].apply(lambda x: x[\"ru\"])\n",
    "df_ru[\"restor\"] = df_ru['restor'].apply(lambda x: x[\"ru\"])\n",
    "df_ru[\"seakeys\"] = df_ru['seakeys'].apply(lambda x: x[\"ru\"])\n",
    "df_ru[\"size\"] = df_ru['size'].apply(lambda x: x[\"ru\"])\n",
    "df_ru[\"text\"] = df_ru['text'].apply(lambda x: x[\"ru\"])\n",
    "df_ru[\"type\"] = df_ru['type'].apply(lambda x: x[\"ru\"])\n",
    "df_ru[\"period_text\"] = df_ru['period'].apply(lambda x: x[\"text\"][\"ru\"] if x else \"\")\n",
    "df_ru[\"period_name\"] = df_ru['period'].apply(lambda x: x[\"name\"][\"ru\"] if x else \"\")"
   ]
  },
  {
   "cell_type": "code",
   "execution_count": 5,
   "metadata": {},
   "outputs": [],
   "source": [
    "df_eng = df.copy()\n",
    "df_eng[\"litra\"] = df_eng['litra'].apply(lambda x: x[\"en\"])\n",
    "df_eng[\"material\"] = df_eng['material'].apply(lambda x: x[\"en\"])\n",
    "df_eng[\"name\"] = df_eng['name'].apply(lambda x: x[\"en\"])\n",
    "df_eng[\"paint_school\"] = df_eng['paint_school'].apply(lambda x: x[\"en\"] if x else \"\")\n",
    "df_eng[\"producein\"] = df_eng['producein'].apply(lambda x: x[\"en\"])\n",
    "df_eng[\"restor\"] = df_eng['restor'].apply(lambda x: x[\"en\"])\n",
    "df_eng[\"seakeys\"] = df_eng['seakeys'].apply(lambda x: x[\"en\"])\n",
    "df_eng[\"size\"] = df_eng['size'].apply(lambda x: x[\"en\"])\n",
    "df_eng[\"text\"] = df_eng['text'].apply(lambda x: x[\"en\"])\n",
    "df_eng[\"type\"] = df_eng['type'].apply(lambda x: x[\"en\"])\n",
    "df_eng[\"period_text\"] = df_eng['period'].apply(lambda x: x[\"text\"][\"en\"] if x else \"\")\n",
    "df_eng[\"period_name\"] = df_eng['period'].apply(lambda x: x[\"name\"][\"en\"] if x else \"\")"
   ]
  },
  {
   "cell_type": "code",
   "execution_count": 6,
   "metadata": {},
   "outputs": [
    {
     "data": {
      "text/plain": [
       "'/Users/maximzubkov/Desktop/Programming/sasha/src/data'"
      ]
     },
     "execution_count": 6,
     "metadata": {},
     "output_type": "execute_result"
    }
   ],
   "source": [
    "os.getcwd()"
   ]
  },
  {
   "cell_type": "code",
   "execution_count": 7,
   "metadata": {},
   "outputs": [],
   "source": [
    "df_ru.T.to_json(\"./parsed/objects_rus.json\")\n",
    "df_eng.T.to_json(\"./parsed/objects_eng.json\")"
   ]
  },
  {
   "cell_type": "markdown",
   "metadata": {},
   "source": [
    "### Events"
   ]
  },
  {
   "cell_type": "code",
   "execution_count": 8,
   "metadata": {},
   "outputs": [],
   "source": [
    "df = pd.read_json('./old/events.json').T[['building', 'dateBegin', 'dateEnd', 'gallery', 'halls', 'm_parent_id', 'name', 'path', 'price', 'sponsors', 'text', 'ticket', 'type', 'within']]"
   ]
  },
  {
   "cell_type": "code",
   "execution_count": 9,
   "metadata": {},
   "outputs": [
    {
     "data": {
      "text/plain": [
       "Index(['building', 'dateBegin', 'dateEnd', 'gallery', 'halls', 'm_parent_id',\n",
       "       'name', 'path', 'price', 'sponsors', 'text', 'ticket', 'type',\n",
       "       'within'],\n",
       "      dtype='object')"
      ]
     },
     "execution_count": 9,
     "metadata": {},
     "output_type": "execute_result"
    }
   ],
   "source": [
    "df.columns"
   ]
  },
  {
   "cell_type": "code",
   "execution_count": 10,
   "metadata": {},
   "outputs": [],
   "source": [
    "df_ru = df.copy()\n",
    "df_ru[\"type\"] = df_ru[\"type\"].apply(lambda x: x[\"ru\"])\n",
    "df_ru[\"halls\"] = df_ru[\"halls\"].apply(lambda x: x[\"ru\"])\n",
    "df_ru[\"text\"] = df_ru[\"text\"].apply(lambda x: x[\"ru\"])\n",
    "df_ru[\"price\"] = df_ru[\"price\"].apply(lambda x: x[\"ru\"])\n",
    "df_ru[\"name\"] = df_ru[\"name\"].apply(lambda x: x[\"ru\"])"
   ]
  },
  {
   "cell_type": "code",
   "execution_count": 11,
   "metadata": {},
   "outputs": [],
   "source": [
    "df_eng = df.copy()\n",
    "df_eng[\"type\"] = df_eng[\"type\"].apply(lambda x: x[\"ru\"])\n",
    "df_eng[\"halls\"] = df_eng[\"halls\"].apply(lambda x: x[\"ru\"])\n",
    "df_eng[\"text\"] = df_eng[\"text\"].apply(lambda x: x[\"ru\"])\n",
    "df_eng[\"price\"] = df_eng[\"price\"].apply(lambda x: x[\"ru\"])\n",
    "df_eng[\"name\"] = df_eng[\"name\"].apply(lambda x: x[\"ru\"])"
   ]
  },
  {
   "cell_type": "code",
   "execution_count": 12,
   "metadata": {},
   "outputs": [],
   "source": [
    "df_ru.T.to_json(\"./parsed/events_rus.json\")\n",
    "df_eng.T.to_json(\"./parsed/events_eng.json\")"
   ]
  },
  {
   "cell_type": "markdown",
   "metadata": {},
   "source": [
    "### Collects"
   ]
  },
  {
   "cell_type": "code",
   "execution_count": 13,
   "metadata": {},
   "outputs": [],
   "source": [
    "df = pd.read_json('./old/collects.json').T[['circ_img', 'headimg', 'img_mob', 'img_pc', 'name', 'path', 'seakeys', 'text', 'textmore']]"
   ]
  },
  {
   "cell_type": "code",
   "execution_count": 14,
   "metadata": {},
   "outputs": [],
   "source": [
    "df_ru = df.copy()"
   ]
  },
  {
   "cell_type": "code",
   "execution_count": 15,
   "metadata": {},
   "outputs": [],
   "source": [
    "df_ru[\"name\"] = df_ru[\"name\"].apply(lambda x: x[\"ru\"])\n",
    "df_ru[\"headimg\"] = df_ru[\"headimg\"].apply(lambda x: x[\"ru\"])\n",
    "df_ru[\"seakeys\"] = df_ru[\"seakeys\"].apply(lambda x: x[\"ru\"])\n",
    "df_ru[\"text\"] = df_ru[\"text\"].apply(lambda x: x[\"ru\"])\n",
    "df_ru[\"textmore\"] = df_ru[\"textmore\"].apply(lambda x: x[\"ru\"])"
   ]
  },
  {
   "cell_type": "code",
   "execution_count": 16,
   "metadata": {},
   "outputs": [],
   "source": [
    "df_eng = df.copy()\n",
    "df_eng[\"name\"] = df_eng[\"name\"].apply(lambda x: x[\"ru\"])\n",
    "df_eng[\"headimg\"] = df_eng[\"headimg\"].apply(lambda x: x[\"ru\"])\n",
    "df_eng[\"seakeys\"] = df_eng[\"seakeys\"].apply(lambda x: x[\"ru\"])\n",
    "df_eng[\"text\"] = df_eng[\"text\"].apply(lambda x: x[\"ru\"])\n",
    "df_eng[\"textmore\"] = df_eng[\"textmore\"].apply(lambda x: x[\"ru\"])"
   ]
  },
  {
   "cell_type": "code",
   "execution_count": 17,
   "metadata": {},
   "outputs": [],
   "source": [
    "df_ru.T.to_json(\"./parsed/collects_rus.json\")\n",
    "df_eng.T.to_json(\"./parsed/collects_eng.json\")"
   ]
  },
  {
   "cell_type": "markdown",
   "metadata": {},
   "source": [
    "### Buildings"
   ]
  },
  {
   "cell_type": "code",
   "execution_count": 3,
   "metadata": {},
   "outputs": [],
   "source": [
    "df = pd.read_json('./old/buildings.json').T"
   ]
  },
  {
   "cell_type": "code",
   "execution_count": 4,
   "metadata": {},
   "outputs": [
    {
     "data": {
      "text/plain": [
       "Index(['adress', 'appl_number', 'appl_number_tablet', 'audiog', 'brief',\n",
       "       'closed', 'excursions', 'exposition', 'floors', 'img', 'img_header',\n",
       "       'invalid', 'm_sort', 'menu', 'name', 'panorama', 'path', 'picture',\n",
       "       'rate', 'rules', 'schedule', 'seakeys', 'searcha', 'tel', 'text',\n",
       "       'textmore', 'ticket', 'timeline', 'virtual_tour', 'yamapcoords'],\n",
       "      dtype='object')"
      ]
     },
     "execution_count": 4,
     "metadata": {},
     "output_type": "execute_result"
    }
   ],
   "source": [
    "df.columns"
   ]
  },
  {
   "cell_type": "code",
   "execution_count": 5,
   "metadata": {},
   "outputs": [],
   "source": [
    "df_ru = df.copy()\n",
    "df_ru[\"adress\"] = df_ru[\"adress\"].apply(lambda x: x[\"ru\"])\n",
    "df_ru[\"brief\"] = df_ru[\"brief\"].apply(lambda x: x[\"ru\"])\n",
    "df_ru[\"audiog\"] = df_ru[\"audiog\"].apply(lambda x: x[\"ru\"])\n",
    "df_ru[\"excursions\"] = df_ru[\"excursions\"].apply(lambda x: x[\"ru\"])\n",
    "df_ru[\"seakeys\"] = df_ru[\"seakeys\"].apply(lambda x: x[\"ru\"])\n",
    "df_ru[\"invalid\"] = df_ru[\"invalid\"].apply(lambda x: x[\"ru\"])\n",
    "df_ru[\"menu\"] = df_ru[\"menu\"].apply(lambda x: x[\"ru\"])\n",
    "df_ru[\"name\"] = df_ru[\"name\"].apply(lambda x: x[\"ru\"])\n",
    "df_ru[\"rules\"] = df_ru[\"rules\"].apply(lambda x: x[\"ru\"])\n",
    "df_ru[\"searcha\"] = df_ru[\"searcha\"].apply(lambda x: x[\"ru\"])\n",
    "df_ru[\"tel\"] = df_ru[\"tel\"].apply(lambda x: x[\"ru\"])\n",
    "df_ru[\"timeline\"] = df_ru[\"timeline\"].apply(lambda x: x[\"ru\"])\n",
    "df_ru[\"textmore\"] = df_ru[\"textmore\"].apply(lambda x: x[\"ru\"])"
   ]
  },
  {
   "cell_type": "code",
   "execution_count": 6,
   "metadata": {},
   "outputs": [],
   "source": [
    "df_eng = df.copy()\n",
    "df_eng[\"adress\"] = df_eng[\"adress\"].apply(lambda x: x[\"en\"])\n",
    "df_eng[\"brief\"] = df_eng[\"brief\"].apply(lambda x: x[\"en\"])\n",
    "df_eng[\"audiog\"] = df_eng[\"audiog\"].apply(lambda x: x[\"en\"])\n",
    "df_eng[\"excursions\"] = df_eng[\"excursions\"].apply(lambda x: x[\"en\"])\n",
    "df_eng[\"seakeys\"] = df_eng[\"seakeys\"].apply(lambda x: x[\"en\"])\n",
    "df_eng[\"invalid\"] = df_eng[\"invalid\"].apply(lambda x: x[\"en\"])\n",
    "df_eng[\"menu\"] = df_eng[\"menu\"].apply(lambda x: x[\"en\"])\n",
    "df_eng[\"name\"] = df_eng[\"name\"].apply(lambda x: x[\"en\"])\n",
    "df_eng[\"rules\"] = df_eng[\"rules\"].apply(lambda x: x[\"en\"])\n",
    "df_eng[\"searcha\"] = df_eng[\"searcha\"].apply(lambda x: x[\"en\"])\n",
    "df_eng[\"tel\"] = df_eng[\"tel\"].apply(lambda x: x[\"ru\"])\n",
    "df_eng[\"timeline\"] = df_eng[\"timeline\"].apply(lambda x: x[\"en\"])\n",
    "df_eng[\"textmore\"] = df_eng[\"textmore\"].apply(lambda x: x[\"ru\"])"
   ]
  },
  {
   "cell_type": "code",
   "execution_count": 7,
   "metadata": {},
   "outputs": [],
   "source": [
    "df_ru.T.to_json(\"./parsed/buildings_rus.json\")\n",
    "df_eng.T.to_json(\"./parsed/buildings_eng.json\")"
   ]
  },
  {
   "cell_type": "code",
   "execution_count": null,
   "metadata": {},
   "outputs": [],
   "source": []
  }
 ],
 "metadata": {
  "kernelspec": {
   "display_name": "Python 3",
   "language": "python",
   "name": "python3"
  },
  "language_info": {
   "codemirror_mode": {
    "name": "ipython",
    "version": 3
   },
   "file_extension": ".py",
   "mimetype": "text/x-python",
   "name": "python",
   "nbconvert_exporter": "python",
   "pygments_lexer": "ipython3",
   "version": "3.6.5"
  }
 },
 "nbformat": 4,
 "nbformat_minor": 2
}
