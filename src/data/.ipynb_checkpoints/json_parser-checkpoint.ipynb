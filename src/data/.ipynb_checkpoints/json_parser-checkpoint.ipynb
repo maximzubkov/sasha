{
 "cells": [
  {
   "cell_type": "code",
   "execution_count": 50,
   "metadata": {},
   "outputs": [],
   "source": [
    "import json\n",
    "import os\n",
    "import pandas as pd"
   ]
  },
  {
   "cell_type": "markdown",
   "metadata": {},
   "source": [
    "### Objects"
   ]
  },
  {
   "cell_type": "code",
   "execution_count": 154,
   "metadata": {},
   "outputs": [],
   "source": [
    "df = pd.read_json('/Users/alexander/sasha/src/data/parsed/events_exhibition.json').T"
   ]
  },
  {
   "cell_type": "code",
   "execution_count": 95,
   "metadata": {},
   "outputs": [],
   "source": [
    "with open('/Users/alexander/sasha/src/data/parsed/events_exhibition.json') as f:\n",
    "    temp = json.load(f)"
   ]
  },
  {
   "cell_type": "code",
   "execution_count": 88,
   "metadata": {},
   "outputs": [],
   "source": [
    "df_concert = df.T[df.T['type'] == 'Выставка']"
   ]
  },
  {
   "cell_type": "code",
   "execution_count": 89,
   "metadata": {},
   "outputs": [],
   "source": [
    "df_concert.T.to_json('/Users/alexander/sasha/src/data/parsed/events_exhibition.json')"
   ]
  },
  {
   "cell_type": "code",
   "execution_count": 90,
   "metadata": {},
   "outputs": [
    {
     "data": {
      "text/html": [
       "<div>\n",
       "<style scoped>\n",
       "    .dataframe tbody tr th:only-of-type {\n",
       "        vertical-align: middle;\n",
       "    }\n",
       "\n",
       "    .dataframe tbody tr th {\n",
       "        vertical-align: top;\n",
       "    }\n",
       "\n",
       "    .dataframe thead th {\n",
       "        text-align: right;\n",
       "    }\n",
       "</style>\n",
       "<table border=\"1\" class=\"dataframe\">\n",
       "  <thead>\n",
       "    <tr style=\"text-align: right;\">\n",
       "      <th></th>\n",
       "      <th>building</th>\n",
       "      <th>dateBegin</th>\n",
       "      <th>dateEnd</th>\n",
       "      <th>gallery</th>\n",
       "      <th>halls</th>\n",
       "      <th>m_parent_id</th>\n",
       "      <th>name</th>\n",
       "      <th>path</th>\n",
       "      <th>price</th>\n",
       "      <th>sponsors</th>\n",
       "      <th>text</th>\n",
       "      <th>ticket</th>\n",
       "      <th>type</th>\n",
       "      <th>within</th>\n",
       "    </tr>\n",
       "  </thead>\n",
       "  <tbody>\n",
       "    <tr>\n",
       "      <th>11421</th>\n",
       "      <td>{'0': '117'}</td>\n",
       "      <td>2019-06-19 00:00:00</td>\n",
       "      <td>2019-09-29 00:00:00</td>\n",
       "      <td>{'1': {'id01': '/events/archive/2019/exhibitio...</td>\n",
       "      <td>Зал №13 — 18+</td>\n",
       "      <td>11417</td>\n",
       "      <td>Коллекция Fondation Louis Vuitton*. Избранное</td>\n",
       "      <td>events/archive/2019/exhibitions/louisvuitton/i...</td>\n",
       "      <td>&lt;p&gt;цена билета &amp;mdash; 500 рублей,&amp;nbsp;&lt;br /&gt;...</td>\n",
       "      <td>{'1': {'0': '11843', 'spcategory': {'ru': 'Спо...</td>\n",
       "      <td>&lt;p&gt;&lt;a href=\"https://pushkinmuseum.art/events/a...</td>\n",
       "      <td>/#sid=685</td>\n",
       "      <td>Выставка</td>\n",
       "      <td>{'0': {'id': 11869, 'name': {'ru': 'История со...</td>\n",
       "    </tr>\n",
       "    <tr>\n",
       "      <th>11468</th>\n",
       "      <td>{'0': '116'}</td>\n",
       "      <td>2019-09-17 00:00:00</td>\n",
       "      <td>2019-11-30 00:00:00</td>\n",
       "      <td>{'0': {'id01': '/events/archive/2019/exhibitio...</td>\n",
       "      <td>Залы №9 и 10\\n&lt;br /&gt;\\n&lt;br /&gt;\\nВход на выставку...</td>\n",
       "      <td>11417</td>\n",
       "      <td>«Русский Йорданс». Картины и рисунки Якоба Йор...</td>\n",
       "      <td>events/archive/2019/exhibitions/jordaens/index...</td>\n",
       "      <td></td>\n",
       "      <td>{'1': {'0': '361', 'spcategory': {'ru': 'Генер...</td>\n",
       "      <td>&lt;p&gt;ГМИИ им. А.&amp;nbsp;С. Пушкина представляет вы...</td>\n",
       "      <td>/#id=1&amp;sid=61</td>\n",
       "      <td>Выставка</td>\n",
       "      <td>{'0': {'id': 12354, 'name': {'ru': 'Кураторска...</td>\n",
       "    </tr>\n",
       "    <tr>\n",
       "      <th>12040</th>\n",
       "      <td>{'0': '116'}</td>\n",
       "      <td>2019-10-01 00:00:00</td>\n",
       "      <td>2019-11-15 00:00:00</td>\n",
       "      <td></td>\n",
       "      <td>&lt;br /&gt;\\n&lt;br /&gt;\\nВход на выставку — по билету в...</td>\n",
       "      <td>11417</td>\n",
       "      <td>Восточный джаз / East West Jazz</td>\n",
       "      <td>events/archive/2019/exhibitions/jazz/index.php</td>\n",
       "      <td></td>\n",
       "      <td></td>\n",
       "      <td>&lt;p&gt;&lt;em&gt;Новая выставка ГМИИ им. А.С. Пушкина об...</td>\n",
       "      <td>/#id=1&amp;sid=61</td>\n",
       "      <td>Выставка</td>\n",
       "      <td>{'0': {'id': 12463, 'name': {'ru': 'Икаты Маве...</td>\n",
       "    </tr>\n",
       "  </tbody>\n",
       "</table>\n",
       "</div>"
      ],
      "text/plain": [
       "           building            dateBegin              dateEnd  \\\n",
       "11421  {'0': '117'}  2019-06-19 00:00:00  2019-09-29 00:00:00   \n",
       "11468  {'0': '116'}  2019-09-17 00:00:00  2019-11-30 00:00:00   \n",
       "12040  {'0': '116'}  2019-10-01 00:00:00  2019-11-15 00:00:00   \n",
       "\n",
       "                                                 gallery  \\\n",
       "11421  {'1': {'id01': '/events/archive/2019/exhibitio...   \n",
       "11468  {'0': {'id01': '/events/archive/2019/exhibitio...   \n",
       "12040                                                      \n",
       "\n",
       "                                                   halls m_parent_id  \\\n",
       "11421                                      Зал №13 — 18+       11417   \n",
       "11468  Залы №9 и 10\\n<br />\\n<br />\\nВход на выставку...       11417   \n",
       "12040  <br />\\n<br />\\nВход на выставку — по билету в...       11417   \n",
       "\n",
       "                                                    name  \\\n",
       "11421      Коллекция Fondation Louis Vuitton*. Избранное   \n",
       "11468  «Русский Йорданс». Картины и рисунки Якоба Йор...   \n",
       "12040                    Восточный джаз / East West Jazz   \n",
       "\n",
       "                                                    path  \\\n",
       "11421  events/archive/2019/exhibitions/louisvuitton/i...   \n",
       "11468  events/archive/2019/exhibitions/jordaens/index...   \n",
       "12040     events/archive/2019/exhibitions/jazz/index.php   \n",
       "\n",
       "                                                   price  \\\n",
       "11421  <p>цена билета &mdash; 500 рублей,&nbsp;<br />...   \n",
       "11468                                                      \n",
       "12040                                                      \n",
       "\n",
       "                                                sponsors  \\\n",
       "11421  {'1': {'0': '11843', 'spcategory': {'ru': 'Спо...   \n",
       "11468  {'1': {'0': '361', 'spcategory': {'ru': 'Генер...   \n",
       "12040                                                      \n",
       "\n",
       "                                                    text         ticket  \\\n",
       "11421  <p><a href=\"https://pushkinmuseum.art/events/a...      /#sid=685   \n",
       "11468  <p>ГМИИ им. А.&nbsp;С. Пушкина представляет вы...  /#id=1&sid=61   \n",
       "12040  <p><em>Новая выставка ГМИИ им. А.С. Пушкина об...  /#id=1&sid=61   \n",
       "\n",
       "           type                                             within  \n",
       "11421  Выставка  {'0': {'id': 11869, 'name': {'ru': 'История со...  \n",
       "11468  Выставка  {'0': {'id': 12354, 'name': {'ru': 'Кураторска...  \n",
       "12040  Выставка  {'0': {'id': 12463, 'name': {'ru': 'Икаты Маве...  "
      ]
     },
     "execution_count": 90,
     "metadata": {},
     "output_type": "execute_result"
    }
   ],
   "source": [
    "df_concert"
   ]
  },
  {
   "cell_type": "code",
   "execution_count": 32,
   "metadata": {},
   "outputs": [
    {
     "name": "stdout",
     "output_type": "stream",
     "text": [
      "dict_keys(['126', '127'])\n",
      "dict_keys(['131', '132'])\n"
     ]
    },
    {
     "ename": "AttributeError",
     "evalue": "'str' object has no attribute 'keys'",
     "output_type": "error",
     "traceback": [
      "\u001b[0;31m---------------------------------------------------------------------------\u001b[0m",
      "\u001b[0;31mAttributeError\u001b[0m                            Traceback (most recent call last)",
      "\u001b[0;32m<ipython-input-32-1ed968ee070c>\u001b[0m in \u001b[0;36m<module>\u001b[0;34m()\u001b[0m\n\u001b[1;32m      1\u001b[0m \u001b[0;32mfor\u001b[0m \u001b[0mbuilding\u001b[0m \u001b[0;32min\u001b[0m \u001b[0mdf\u001b[0m\u001b[0;34m.\u001b[0m\u001b[0mT\u001b[0m\u001b[0;34m[\u001b[0m\u001b[0;34m'floors'\u001b[0m\u001b[0;34m]\u001b[0m\u001b[0;34m:\u001b[0m\u001b[0;34m\u001b[0m\u001b[0m\n\u001b[0;32m----> 2\u001b[0;31m     \u001b[0mprint\u001b[0m\u001b[0;34m(\u001b[0m\u001b[0mbuilding\u001b[0m\u001b[0;34m.\u001b[0m\u001b[0mkeys\u001b[0m\u001b[0;34m(\u001b[0m\u001b[0;34m)\u001b[0m\u001b[0;34m)\u001b[0m\u001b[0;34m\u001b[0m\u001b[0m\n\u001b[0m",
      "\u001b[0;31mAttributeError\u001b[0m: 'str' object has no attribute 'keys'"
     ]
    }
   ],
   "source": [
    "for building in df.T['floors']:\n",
    "    print(building.keys())"
   ]
  },
  {
   "cell_type": "code",
   "execution_count": 45,
   "metadata": {},
   "outputs": [
    {
     "ename": "AttributeError",
     "evalue": "'str' object has no attribute 'keys'",
     "output_type": "error",
     "traceback": [
      "\u001b[0;31m---------------------------------------------------------------------------\u001b[0m",
      "\u001b[0;31mAttributeError\u001b[0m                            Traceback (most recent call last)",
      "\u001b[0;32m<ipython-input-45-e838bcc14fe5>\u001b[0m in \u001b[0;36m<module>\u001b[0;34m()\u001b[0m\n\u001b[1;32m      1\u001b[0m \u001b[0mdf_parse\u001b[0m \u001b[0;34m=\u001b[0m \u001b[0mpd\u001b[0m\u001b[0;34m.\u001b[0m\u001b[0mDataFrame\u001b[0m\u001b[0;34m(\u001b[0m\u001b[0mcolumns\u001b[0m\u001b[0;34m=\u001b[0m\u001b[0;34m[\u001b[0m\u001b[0;34m'building_id'\u001b[0m\u001b[0;34m,\u001b[0m \u001b[0;34m'hall_id'\u001b[0m\u001b[0;34m,\u001b[0m \u001b[0;34m'hall_num'\u001b[0m\u001b[0;34m,\u001b[0m \u001b[0;34m'hall_desc'\u001b[0m\u001b[0;34m]\u001b[0m\u001b[0;34m)\u001b[0m\u001b[0;34m\u001b[0m\u001b[0m\n\u001b[1;32m      2\u001b[0m \u001b[0;32mfor\u001b[0m \u001b[0mbuilding_id\u001b[0m\u001b[0;34m,\u001b[0m \u001b[0mbuilding\u001b[0m \u001b[0;32min\u001b[0m \u001b[0mzip\u001b[0m\u001b[0;34m(\u001b[0m\u001b[0mdf\u001b[0m\u001b[0;34m.\u001b[0m\u001b[0mT\u001b[0m\u001b[0;34m.\u001b[0m\u001b[0mindex\u001b[0m\u001b[0;34m,\u001b[0m \u001b[0mdf\u001b[0m\u001b[0;34m.\u001b[0m\u001b[0mT\u001b[0m\u001b[0;34m[\u001b[0m\u001b[0;34m'floors'\u001b[0m\u001b[0;34m]\u001b[0m\u001b[0;34m)\u001b[0m\u001b[0;34m:\u001b[0m\u001b[0;34m\u001b[0m\u001b[0m\n\u001b[0;32m----> 3\u001b[0;31m     \u001b[0;32mfor\u001b[0m \u001b[0mfloor_id\u001b[0m \u001b[0;32min\u001b[0m \u001b[0mbuilding\u001b[0m\u001b[0;34m.\u001b[0m\u001b[0mkeys\u001b[0m\u001b[0;34m(\u001b[0m\u001b[0;34m)\u001b[0m\u001b[0;34m:\u001b[0m\u001b[0;34m\u001b[0m\u001b[0m\n\u001b[0m\u001b[1;32m      4\u001b[0m         \u001b[0;32mfor\u001b[0m \u001b[0mhall_id\u001b[0m \u001b[0;32min\u001b[0m \u001b[0mbuilding\u001b[0m\u001b[0;34m[\u001b[0m\u001b[0mfloor_id\u001b[0m\u001b[0;34m]\u001b[0m\u001b[0;34m[\u001b[0m\u001b[0;34m'halls'\u001b[0m\u001b[0;34m]\u001b[0m\u001b[0;34m.\u001b[0m\u001b[0mkeys\u001b[0m\u001b[0;34m(\u001b[0m\u001b[0;34m)\u001b[0m\u001b[0;34m:\u001b[0m\u001b[0;34m\u001b[0m\u001b[0m\n\u001b[1;32m      5\u001b[0m             \u001b[0mrow\u001b[0m \u001b[0;34m=\u001b[0m \u001b[0;34m{\u001b[0m\u001b[0;34m'building_id'\u001b[0m\u001b[0;34m:\u001b[0m \u001b[0mbuilding_id\u001b[0m\u001b[0;34m,\u001b[0m \u001b[0;34m'hall_id'\u001b[0m\u001b[0;34m:\u001b[0m \u001b[0mhall_id\u001b[0m\u001b[0;34m,\u001b[0m \u001b[0;34m'hall_num'\u001b[0m\u001b[0;34m:\u001b[0m \u001b[0mbuilding\u001b[0m\u001b[0;34m[\u001b[0m\u001b[0mfloor_id\u001b[0m\u001b[0;34m]\u001b[0m\u001b[0;34m[\u001b[0m\u001b[0;34m'halls'\u001b[0m\u001b[0;34m]\u001b[0m\u001b[0;34m[\u001b[0m\u001b[0mhall_id\u001b[0m\u001b[0;34m]\u001b[0m\u001b[0;34m[\u001b[0m\u001b[0;34m'number'\u001b[0m\u001b[0;34m]\u001b[0m\u001b[0;34m,\u001b[0m                   \u001b[0;34m'hall_desc'\u001b[0m\u001b[0;34m:\u001b[0m \u001b[0mbuilding\u001b[0m\u001b[0;34m[\u001b[0m\u001b[0mfloor_id\u001b[0m\u001b[0;34m]\u001b[0m\u001b[0;34m[\u001b[0m\u001b[0;34m'halls'\u001b[0m\u001b[0;34m]\u001b[0m\u001b[0;34m[\u001b[0m\u001b[0mhall_id\u001b[0m\u001b[0;34m]\u001b[0m\u001b[0;34m[\u001b[0m\u001b[0;34m'text'\u001b[0m\u001b[0;34m]\u001b[0m\u001b[0;34m[\u001b[0m\u001b[0;34m'ru'\u001b[0m\u001b[0;34m]\u001b[0m\u001b[0;34m}\u001b[0m\u001b[0;34m\u001b[0m\u001b[0m\n",
      "\u001b[0;31mAttributeError\u001b[0m: 'str' object has no attribute 'keys'"
     ]
    }
   ],
   "source": [
    "df_parse = pd.DataFrame(columns=['building_id', 'hall_id', 'hall_num', 'hall_desc'])\n",
    "for building_id, building in zip(df.T.index, df.T['floors']):\n",
    "    for floor_id in building.keys():\n",
    "        for hall_id in building[floor_id]['halls'].keys():\n",
    "            row = {'building_id': building_id, 'hall_id': hall_id, 'hall_num': building[floor_id]['halls'][hall_id]['number'],\\\n",
    "                   'hall_desc': building[floor_id]['halls'][hall_id]['text']['ru']}\n",
    "            df_parse = df_parse.append(row, ignore_index=True)"
   ]
  },
  {
   "cell_type": "code",
   "execution_count": 48,
   "metadata": {},
   "outputs": [],
   "source": [
    "df_parse.to_csv('/Users/alexander/sasha/src/data/parsed/halls_info.csv', index=None)"
   ]
  },
  {
   "cell_type": "code",
   "execution_count": 3,
   "metadata": {},
   "outputs": [],
   "source": [
    "df = pd.read_json('./old/objects.json').T[['get_year', \"gallery\" ,'hall', 'litra', 'm_parent_id', 'masterpiece', 'material', 'name', 'origplace','paint_school', 'path', 'period', 'producein', 'restor', 'seakeys', 'show_in_collection', 'show_in_hall', 'size', 'text', 'type', 'year']]"
   ]
  },
  {
   "cell_type": "code",
   "execution_count": 4,
   "metadata": {},
   "outputs": [],
   "source": [
    "df_ru = df.copy()\n",
    "df_ru[\"litra\"] = df_ru['litra'].apply(lambda x: x[\"ru\"])\n",
    "df_ru[\"material\"] = df_ru['material'].apply(lambda x: x[\"ru\"])\n",
    "df_ru[\"name\"] = df_ru['name'].apply(lambda x: x[\"ru\"])\n",
    "df_ru[\"paint_school\"] = df_ru['paint_school'].apply(lambda x: x[\"ru\"] if x else \"\")\n",
    "df_ru[\"producein\"] = df_ru['producein'].apply(lambda x: x[\"ru\"])\n",
    "df_ru[\"restor\"] = df_ru['restor'].apply(lambda x: x[\"ru\"])\n",
    "df_ru[\"seakeys\"] = df_ru['seakeys'].apply(lambda x: x[\"ru\"])\n",
    "df_ru[\"size\"] = df_ru['size'].apply(lambda x: x[\"ru\"])\n",
    "df_ru[\"text\"] = df_ru['text'].apply(lambda x: x[\"ru\"])\n",
    "df_ru[\"type\"] = df_ru['type'].apply(lambda x: x[\"ru\"])\n",
    "df_ru[\"period_text\"] = df_ru['period'].apply(lambda x: x[\"text\"][\"ru\"] if x else \"\")\n",
    "df_ru[\"period_name\"] = df_ru['period'].apply(lambda x: x[\"name\"][\"ru\"] if x else \"\")"
   ]
  },
  {
   "cell_type": "code",
   "execution_count": 5,
   "metadata": {},
   "outputs": [],
   "source": [
    "df_eng = df.copy()\n",
    "df_eng[\"litra\"] = df_eng['litra'].apply(lambda x: x[\"en\"])\n",
    "df_eng[\"material\"] = df_eng['material'].apply(lambda x: x[\"en\"])\n",
    "df_eng[\"name\"] = df_eng['name'].apply(lambda x: x[\"en\"])\n",
    "df_eng[\"paint_school\"] = df_eng['paint_school'].apply(lambda x: x[\"en\"] if x else \"\")\n",
    "df_eng[\"producein\"] = df_eng['producein'].apply(lambda x: x[\"en\"])\n",
    "df_eng[\"restor\"] = df_eng['restor'].apply(lambda x: x[\"en\"])\n",
    "df_eng[\"seakeys\"] = df_eng['seakeys'].apply(lambda x: x[\"en\"])\n",
    "df_eng[\"size\"] = df_eng['size'].apply(lambda x: x[\"en\"])\n",
    "df_eng[\"text\"] = df_eng['text'].apply(lambda x: x[\"en\"])\n",
    "df_eng[\"type\"] = df_eng['type'].apply(lambda x: x[\"en\"])\n",
    "df_eng[\"period_text\"] = df_eng['period'].apply(lambda x: x[\"text\"][\"en\"] if x else \"\")\n",
    "df_eng[\"period_name\"] = df_eng['period'].apply(lambda x: x[\"name\"][\"en\"] if x else \"\")"
   ]
  },
  {
   "cell_type": "code",
   "execution_count": 6,
   "metadata": {},
   "outputs": [
    {
     "data": {
      "text/plain": [
       "'/Users/maximzubkov/Desktop/Programming/sasha/src/data'"
      ]
     },
     "execution_count": 6,
     "metadata": {},
     "output_type": "execute_result"
    }
   ],
   "source": [
    "os.getcwd()"
   ]
  },
  {
   "cell_type": "code",
   "execution_count": 7,
   "metadata": {},
   "outputs": [],
   "source": [
    "df_ru.T.to_json(\"./parsed/objects_rus.json\")\n",
    "df_eng.T.to_json(\"./parsed/objects_eng.json\")"
   ]
  },
  {
   "cell_type": "markdown",
   "metadata": {},
   "source": [
    "### Events"
   ]
  },
  {
   "cell_type": "code",
   "execution_count": 8,
   "metadata": {},
   "outputs": [],
   "source": [
    "df = pd.read_json('./old/events.json').T[['building', 'dateBegin', 'dateEnd', 'gallery', 'halls', 'm_parent_id', 'name', 'path', 'price', 'sponsors', 'text', 'ticket', 'type', 'within']]"
   ]
  },
  {
   "cell_type": "code",
   "execution_count": 9,
   "metadata": {},
   "outputs": [
    {
     "data": {
      "text/plain": [
       "Index(['building', 'dateBegin', 'dateEnd', 'gallery', 'halls', 'm_parent_id',\n",
       "       'name', 'path', 'price', 'sponsors', 'text', 'ticket', 'type',\n",
       "       'within'],\n",
       "      dtype='object')"
      ]
     },
     "execution_count": 9,
     "metadata": {},
     "output_type": "execute_result"
    }
   ],
   "source": [
    "df.columns"
   ]
  },
  {
   "cell_type": "code",
   "execution_count": 10,
   "metadata": {},
   "outputs": [],
   "source": [
    "df_ru = df.copy()\n",
    "df_ru[\"type\"] = df_ru[\"type\"].apply(lambda x: x[\"ru\"])\n",
    "df_ru[\"halls\"] = df_ru[\"halls\"].apply(lambda x: x[\"ru\"])\n",
    "df_ru[\"text\"] = df_ru[\"text\"].apply(lambda x: x[\"ru\"])\n",
    "df_ru[\"price\"] = df_ru[\"price\"].apply(lambda x: x[\"ru\"])\n",
    "df_ru[\"name\"] = df_ru[\"name\"].apply(lambda x: x[\"ru\"])"
   ]
  },
  {
   "cell_type": "code",
   "execution_count": 11,
   "metadata": {},
   "outputs": [],
   "source": [
    "df_eng = df.copy()\n",
    "df_eng[\"type\"] = df_eng[\"type\"].apply(lambda x: x[\"ru\"])\n",
    "df_eng[\"halls\"] = df_eng[\"halls\"].apply(lambda x: x[\"ru\"])\n",
    "df_eng[\"text\"] = df_eng[\"text\"].apply(lambda x: x[\"ru\"])\n",
    "df_eng[\"price\"] = df_eng[\"price\"].apply(lambda x: x[\"ru\"])\n",
    "df_eng[\"name\"] = df_eng[\"name\"].apply(lambda x: x[\"ru\"])"
   ]
  },
  {
   "cell_type": "code",
   "execution_count": 12,
   "metadata": {},
   "outputs": [],
   "source": [
    "df_ru.T.to_json(\"./parsed/events_rus.json\")\n",
    "df_eng.T.to_json(\"./parsed/events_eng.json\")"
   ]
  },
  {
   "cell_type": "markdown",
   "metadata": {},
   "source": [
    "### Collects"
   ]
  },
  {
   "cell_type": "code",
   "execution_count": 13,
   "metadata": {},
   "outputs": [],
   "source": [
    "df = pd.read_json('./old/collects.json').T[['circ_img', 'headimg', 'img_mob', 'img_pc', 'name', 'path', 'seakeys', 'text', 'textmore']]"
   ]
  },
  {
   "cell_type": "code",
   "execution_count": 14,
   "metadata": {},
   "outputs": [],
   "source": [
    "df_ru = df.copy()"
   ]
  },
  {
   "cell_type": "code",
   "execution_count": 15,
   "metadata": {},
   "outputs": [],
   "source": [
    "df_ru[\"name\"] = df_ru[\"name\"].apply(lambda x: x[\"ru\"])\n",
    "df_ru[\"headimg\"] = df_ru[\"headimg\"].apply(lambda x: x[\"ru\"])\n",
    "df_ru[\"seakeys\"] = df_ru[\"seakeys\"].apply(lambda x: x[\"ru\"])\n",
    "df_ru[\"text\"] = df_ru[\"text\"].apply(lambda x: x[\"ru\"])\n",
    "df_ru[\"textmore\"] = df_ru[\"textmore\"].apply(lambda x: x[\"ru\"])"
   ]
  },
  {
   "cell_type": "code",
   "execution_count": 16,
   "metadata": {},
   "outputs": [],
   "source": [
    "df_eng = df.copy()\n",
    "df_eng[\"name\"] = df_eng[\"name\"].apply(lambda x: x[\"ru\"])\n",
    "df_eng[\"headimg\"] = df_eng[\"headimg\"].apply(lambda x: x[\"ru\"])\n",
    "df_eng[\"seakeys\"] = df_eng[\"seakeys\"].apply(lambda x: x[\"ru\"])\n",
    "df_eng[\"text\"] = df_eng[\"text\"].apply(lambda x: x[\"ru\"])\n",
    "df_eng[\"textmore\"] = df_eng[\"textmore\"].apply(lambda x: x[\"ru\"])"
   ]
  },
  {
   "cell_type": "code",
   "execution_count": 17,
   "metadata": {},
   "outputs": [],
   "source": [
    "df_ru.T.to_json(\"./parsed/collects_rus.json\")\n",
    "df_eng.T.to_json(\"./parsed/collects_eng.json\")"
   ]
  },
  {
   "cell_type": "markdown",
   "metadata": {},
   "source": [
    "### Buildings"
   ]
  },
  {
   "cell_type": "code",
   "execution_count": 3,
   "metadata": {},
   "outputs": [],
   "source": [
    "df = pd.read_json('./old/buildings.json').T"
   ]
  },
  {
   "cell_type": "code",
   "execution_count": 4,
   "metadata": {},
   "outputs": [
    {
     "data": {
      "text/plain": [
       "Index(['adress', 'appl_number', 'appl_number_tablet', 'audiog', 'brief',\n",
       "       'closed', 'excursions', 'exposition', 'floors', 'img', 'img_header',\n",
       "       'invalid', 'm_sort', 'menu', 'name', 'panorama', 'path', 'picture',\n",
       "       'rate', 'rules', 'schedule', 'seakeys', 'searcha', 'tel', 'text',\n",
       "       'textmore', 'ticket', 'timeline', 'virtual_tour', 'yamapcoords'],\n",
       "      dtype='object')"
      ]
     },
     "execution_count": 4,
     "metadata": {},
     "output_type": "execute_result"
    }
   ],
   "source": [
    "df.columns"
   ]
  },
  {
   "cell_type": "code",
   "execution_count": 5,
   "metadata": {},
   "outputs": [],
   "source": [
    "df_ru = df.copy()\n",
    "df_ru[\"adress\"] = df_ru[\"adress\"].apply(lambda x: x[\"ru\"])\n",
    "df_ru[\"brief\"] = df_ru[\"brief\"].apply(lambda x: x[\"ru\"])\n",
    "df_ru[\"audiog\"] = df_ru[\"audiog\"].apply(lambda x: x[\"ru\"])\n",
    "df_ru[\"excursions\"] = df_ru[\"excursions\"].apply(lambda x: x[\"ru\"])\n",
    "df_ru[\"seakeys\"] = df_ru[\"seakeys\"].apply(lambda x: x[\"ru\"])\n",
    "df_ru[\"invalid\"] = df_ru[\"invalid\"].apply(lambda x: x[\"ru\"])\n",
    "df_ru[\"menu\"] = df_ru[\"menu\"].apply(lambda x: x[\"ru\"])\n",
    "df_ru[\"name\"] = df_ru[\"name\"].apply(lambda x: x[\"ru\"])\n",
    "df_ru[\"rules\"] = df_ru[\"rules\"].apply(lambda x: x[\"ru\"])\n",
    "df_ru[\"searcha\"] = df_ru[\"searcha\"].apply(lambda x: x[\"ru\"])\n",
    "df_ru[\"tel\"] = df_ru[\"tel\"].apply(lambda x: x[\"ru\"])\n",
    "df_ru[\"timeline\"] = df_ru[\"timeline\"].apply(lambda x: x[\"ru\"])\n",
    "df_ru[\"textmore\"] = df_ru[\"textmore\"].apply(lambda x: x[\"ru\"])"
   ]
  },
  {
   "cell_type": "code",
   "execution_count": 6,
   "metadata": {},
   "outputs": [],
   "source": [
    "df_eng = df.copy()\n",
    "df_eng[\"adress\"] = df_eng[\"adress\"].apply(lambda x: x[\"en\"])\n",
    "df_eng[\"brief\"] = df_eng[\"brief\"].apply(lambda x: x[\"en\"])\n",
    "df_eng[\"audiog\"] = df_eng[\"audiog\"].apply(lambda x: x[\"en\"])\n",
    "df_eng[\"excursions\"] = df_eng[\"excursions\"].apply(lambda x: x[\"en\"])\n",
    "df_eng[\"seakeys\"] = df_eng[\"seakeys\"].apply(lambda x: x[\"en\"])\n",
    "df_eng[\"invalid\"] = df_eng[\"invalid\"].apply(lambda x: x[\"en\"])\n",
    "df_eng[\"menu\"] = df_eng[\"menu\"].apply(lambda x: x[\"en\"])\n",
    "df_eng[\"name\"] = df_eng[\"name\"].apply(lambda x: x[\"en\"])\n",
    "df_eng[\"rules\"] = df_eng[\"rules\"].apply(lambda x: x[\"en\"])\n",
    "df_eng[\"searcha\"] = df_eng[\"searcha\"].apply(lambda x: x[\"en\"])\n",
    "df_eng[\"tel\"] = df_eng[\"tel\"].apply(lambda x: x[\"ru\"])\n",
    "df_eng[\"timeline\"] = df_eng[\"timeline\"].apply(lambda x: x[\"en\"])\n",
    "df_eng[\"textmore\"] = df_eng[\"textmore\"].apply(lambda x: x[\"ru\"])"
   ]
  },
  {
   "cell_type": "code",
   "execution_count": 7,
   "metadata": {},
   "outputs": [],
   "source": [
    "df_ru.T.to_json(\"./parsed/buildings_rus.json\")\n",
    "df_eng.T.to_json(\"./parsed/buildings_eng.json\")"
   ]
  },
  {
   "cell_type": "code",
   "execution_count": null,
   "metadata": {},
   "outputs": [],
   "source": []
  }
 ],
 "metadata": {
  "kernelspec": {
   "display_name": "Python 3",
   "language": "python",
   "name": "python3"
  },
  "language_info": {
   "codemirror_mode": {
    "name": "ipython",
    "version": 3
   },
   "file_extension": ".py",
   "mimetype": "text/x-python",
   "name": "python",
   "nbconvert_exporter": "python",
   "pygments_lexer": "ipython3",
   "version": "3.7.3"
  }
 },
 "nbformat": 4,
 "nbformat_minor": 2
}
