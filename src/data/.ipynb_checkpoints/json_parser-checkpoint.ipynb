{
 "cells": [
  {
   "cell_type": "code",
   "execution_count": 206,
   "metadata": {},
   "outputs": [],
   "source": [
    "import json\n",
    "import os\n",
    "import pandas as pd"
   ]
  },
  {
   "cell_type": "markdown",
   "metadata": {},
   "source": [
    "### Objects"
   ]
  },
  {
   "cell_type": "code",
   "execution_count": 207,
   "metadata": {},
   "outputs": [],
   "source": [
    "df = pd.read_json('./old/objects.json').T[['get_year', \"gallery\" ,'hall', 'litra', 'm_parent_id', 'masterpiece', 'material', 'name', 'origplace','paint_school', 'path', 'period', 'producein', 'restor', 'seakeys', 'show_in_collection', 'show_in_hall', 'size', 'text', 'type', 'year']]"
   ]
  },
  {
   "cell_type": "code",
   "execution_count": 208,
   "metadata": {},
   "outputs": [],
   "source": [
    "df_ru = df.copy()\n",
    "df_ru[\"litra\"] = df_ru['litra'].apply(lambda x: x[\"ru\"])\n",
    "df_ru[\"material\"] = df_ru['material'].apply(lambda x: x[\"ru\"])\n",
    "df_ru[\"name\"] = df_ru['name'].apply(lambda x: x[\"ru\"])\n",
    "df_ru[\"paint_school\"] = df_ru['paint_school'].apply(lambda x: x[\"ru\"] if x else \"\")\n",
    "df_ru[\"producein\"] = df_ru['producein'].apply(lambda x: x[\"ru\"])\n",
    "df_ru[\"restor\"] = df_ru['restor'].apply(lambda x: x[\"ru\"])\n",
    "df_ru[\"seakeys\"] = df_ru['seakeys'].apply(lambda x: x[\"ru\"])\n",
    "df_ru[\"size\"] = df_ru['size'].apply(lambda x: x[\"ru\"])\n",
    "df_ru[\"text\"] = df_ru['text'].apply(lambda x: x[\"ru\"])\n",
    "df_ru[\"type\"] = df_ru['type'].apply(lambda x: x[\"ru\"])\n",
    "df_ru[\"period_text\"] = df_ru['period'].apply(lambda x: x[\"text\"][\"ru\"] if x else \"\")\n",
    "df_ru[\"period_name\"] = df_ru['period'].apply(lambda x: x[\"name\"][\"ru\"] if x else \"\")"
   ]
  },
  {
   "cell_type": "code",
   "execution_count": 209,
   "metadata": {},
   "outputs": [],
   "source": [
    "df_eng = df.copy()\n",
    "df_eng[\"litra\"] = df_eng['litra'].apply(lambda x: x[\"en\"])\n",
    "df_eng[\"material\"] = df_eng['material'].apply(lambda x: x[\"en\"])\n",
    "df_eng[\"name\"] = df_eng['name'].apply(lambda x: x[\"en\"])\n",
    "df_eng[\"paint_school\"] = df_eng['paint_school'].apply(lambda x: x[\"en\"] if x else \"\")\n",
    "df_eng[\"producein\"] = df_eng['producein'].apply(lambda x: x[\"en\"])\n",
    "df_eng[\"restor\"] = df_eng['restor'].apply(lambda x: x[\"en\"])\n",
    "df_eng[\"seakeys\"] = df_eng['seakeys'].apply(lambda x: x[\"en\"])\n",
    "df_eng[\"size\"] = df_eng['size'].apply(lambda x: x[\"en\"])\n",
    "df_eng[\"text\"] = df_eng['text'].apply(lambda x: x[\"en\"])\n",
    "df_eng[\"type\"] = df_eng['type'].apply(lambda x: x[\"en\"])\n",
    "df_eng[\"period_text\"] = df_eng['period'].apply(lambda x: x[\"text\"][\"en\"] if x else \"\")\n",
    "df_eng[\"period_name\"] = df_eng['period'].apply(lambda x: x[\"name\"][\"en\"] if x else \"\")"
   ]
  },
  {
   "cell_type": "code",
   "execution_count": 210,
   "metadata": {},
   "outputs": [
    {
     "data": {
      "text/plain": [
       "'/Users/maximzubkov/Desktop/Programming/sasha/src/data'"
      ]
     },
     "execution_count": 210,
     "metadata": {},
     "output_type": "execute_result"
    }
   ],
   "source": [
    "os.getcwd()"
   ]
  },
  {
   "cell_type": "code",
   "execution_count": 211,
   "metadata": {},
   "outputs": [],
   "source": [
    "df_ru.T.to_json(\"./parsed/objects_rus.json\")\n",
    "df_eng.T.to_json(\"./parsed/objects_eng.json\")"
   ]
  },
  {
   "cell_type": "markdown",
   "metadata": {},
   "source": [
    "### Events"
   ]
  },
  {
   "cell_type": "code",
   "execution_count": 124,
   "metadata": {},
   "outputs": [],
   "source": [
    "df = pd.read_json('./old/events.json').T[['building', 'dateBegin', 'dateEnd', 'gallery', 'halls', 'm_parent_id', 'name', 'path', 'price', 'sponsors', 'text', 'ticket', 'type', 'within']]"
   ]
  },
  {
   "cell_type": "code",
   "execution_count": 125,
   "metadata": {},
   "outputs": [
    {
     "data": {
      "text/plain": [
       "Index(['building', 'dateBegin', 'dateEnd', 'gallery', 'halls', 'm_parent_id',\n",
       "       'name', 'path', 'price', 'sponsors', 'text', 'ticket', 'type',\n",
       "       'within'],\n",
       "      dtype='object')"
      ]
     },
     "execution_count": 125,
     "metadata": {},
     "output_type": "execute_result"
    }
   ],
   "source": [
    "df.columns"
   ]
  },
  {
   "cell_type": "code",
   "execution_count": 126,
   "metadata": {},
   "outputs": [],
   "source": [
    "df_ru = df.copy()\n",
    "df_ru[\"type\"] = df_ru[\"type\"].apply(lambda x: x[\"ru\"])\n",
    "df_ru[\"halls\"] = df_ru[\"halls\"].apply(lambda x: x[\"ru\"])\n",
    "df_ru[\"text\"] = df_ru[\"text\"].apply(lambda x: x[\"ru\"])\n",
    "df_ru[\"price\"] = df_ru[\"price\"].apply(lambda x: x[\"ru\"])\n",
    "df_ru[\"name\"] = df_ru[\"name\"].apply(lambda x: x[\"ru\"])"
   ]
  },
  {
   "cell_type": "code",
   "execution_count": 127,
   "metadata": {},
   "outputs": [],
   "source": [
    "df_eng = df.copy()\n",
    "df_eng[\"type\"] = df_eng[\"type\"].apply(lambda x: x[\"ru\"])\n",
    "df_eng[\"halls\"] = df_eng[\"halls\"].apply(lambda x: x[\"ru\"])\n",
    "df_eng[\"text\"] = df_eng[\"text\"].apply(lambda x: x[\"ru\"])\n",
    "df_eng[\"price\"] = df_eng[\"price\"].apply(lambda x: x[\"ru\"])\n",
    "df_eng[\"name\"] = df_eng[\"name\"].apply(lambda x: x[\"ru\"])"
   ]
  },
  {
   "cell_type": "code",
   "execution_count": 128,
   "metadata": {},
   "outputs": [],
   "source": [
    "df_ru.T.to_json(\"./parsed/events_rus.json\")\n",
    "df_eng.T.to_json(\"./parsed/events_eng.json\")"
   ]
  },
  {
   "cell_type": "markdown",
   "metadata": {},
   "source": [
    "### Collects"
   ]
  },
  {
   "cell_type": "code",
   "execution_count": 129,
   "metadata": {},
   "outputs": [],
   "source": [
    "df = pd.read_json('./old/collects.json').T[['circ_img', 'headimg', 'img_mob', 'img_pc', 'name', 'path', 'seakeys', 'text', 'textmore']]"
   ]
  },
  {
   "cell_type": "code",
   "execution_count": 130,
   "metadata": {},
   "outputs": [],
   "source": [
    "df_ru = df.copy()"
   ]
  },
  {
   "cell_type": "code",
   "execution_count": 131,
   "metadata": {},
   "outputs": [],
   "source": [
    "df_ru[\"name\"] = df_ru[\"name\"].apply(lambda x: x[\"ru\"])\n",
    "df_ru[\"headimg\"] = df_ru[\"headimg\"].apply(lambda x: x[\"ru\"])\n",
    "df_ru[\"seakeys\"] = df_ru[\"seakeys\"].apply(lambda x: x[\"ru\"])\n",
    "df_ru[\"text\"] = df_ru[\"text\"].apply(lambda x: x[\"ru\"])\n",
    "df_ru[\"textmore\"] = df_ru[\"textmore\"].apply(lambda x: x[\"ru\"])"
   ]
  },
  {
   "cell_type": "code",
   "execution_count": 132,
   "metadata": {},
   "outputs": [],
   "source": [
    "df_eng = df.copy()\n",
    "df_eng[\"name\"] = df_eng[\"name\"].apply(lambda x: x[\"ru\"])\n",
    "df_eng[\"headimg\"] = df_eng[\"headimg\"].apply(lambda x: x[\"ru\"])\n",
    "df_eng[\"seakeys\"] = df_eng[\"seakeys\"].apply(lambda x: x[\"ru\"])\n",
    "df_eng[\"text\"] = df_eng[\"text\"].apply(lambda x: x[\"ru\"])\n",
    "df_eng[\"textmore\"] = df_eng[\"textmore\"].apply(lambda x: x[\"ru\"])"
   ]
  },
  {
   "cell_type": "code",
   "execution_count": 133,
   "metadata": {},
   "outputs": [],
   "source": [
    "df_ru.T.to_json(\"./parsed/collects_rus.json\")\n",
    "df_eng.T.to_json(\"./parsed/collects_eng.json\")"
   ]
  },
  {
   "cell_type": "markdown",
   "metadata": {},
   "source": [
    "### Buildings"
   ]
  },
  {
   "cell_type": "code",
   "execution_count": 142,
   "metadata": {},
   "outputs": [],
   "source": [
    "df = pd.read_json('./old/buildings.json').T"
   ]
  },
  {
   "cell_type": "code",
   "execution_count": 144,
   "metadata": {},
   "outputs": [
    {
     "data": {
      "text/plain": [
       "Index(['adress', 'appl_number', 'appl_number_tablet', 'audiog', 'brief',\n",
       "       'closed', 'excursions', 'exposition', 'floors', 'img', 'img_header',\n",
       "       'invalid', 'm_sort', 'menu', 'name', 'panorama', 'path', 'picture',\n",
       "       'rate', 'rules', 'schedule', 'seakeys', 'searcha', 'tel', 'text',\n",
       "       'textmore', 'ticket', 'timeline', 'virtual_tour', 'yamapcoords'],\n",
       "      dtype='object')"
      ]
     },
     "execution_count": 144,
     "metadata": {},
     "output_type": "execute_result"
    }
   ],
   "source": [
    "df.columns"
   ]
  },
  {
   "cell_type": "code",
   "execution_count": 191,
   "metadata": {},
   "outputs": [],
   "source": [
    "df_ru = df.copy()\n",
    "df_ru[\"adress\"] = df_ru[\"adress\"].apply(lambda x: x[\"ru\"])\n",
    "df_ru[\"brief\"] = df_ru[\"brief\"].apply(lambda x: x[\"ru\"])\n",
    "df_ru[\"audiog\"] = df_ru[\"audiog\"].apply(lambda x: x[\"ru\"])\n",
    "df_ru[\"excursions\"] = df_ru[\"excursions\"].apply(lambda x: x[\"ru\"])\n",
    "df_ru[\"seakeys\"] = df_ru[\"seakeys\"].apply(lambda x: x[\"ru\"])\n",
    "df_ru[\"invalid\"] = df_ru[\"invalid\"].apply(lambda x: x[\"ru\"])\n",
    "df_ru[\"menu\"] = df_ru[\"menu\"].apply(lambda x: x[\"ru\"])\n",
    "df_ru[\"name\"] = df_ru[\"name\"].apply(lambda x: x[\"ru\"])\n",
    "df_ru[\"rules\"] = df_ru[\"rules\"].apply(lambda x: x[\"ru\"])\n",
    "df_ru[\"searcha\"] = df_ru[\"searcha\"].apply(lambda x: x[\"ru\"])\n",
    "df_ru[\"tel\"] = df_ru[\"tel\"].apply(lambda x: x[\"ru\"])\n",
    "df_ru[\"timeline\"] = df_ru[\"timeline\"].apply(lambda x: x[\"ru\"])\n",
    "df_ru[\"textmore\"] = df_ru[\"textmore\"].apply(lambda x: x[\"ru\"])"
   ]
  },
  {
   "cell_type": "code",
   "execution_count": 189,
   "metadata": {},
   "outputs": [
    {
     "data": {
      "text/html": [
       "<div>\n",
       "<style scoped>\n",
       "    .dataframe tbody tr th:only-of-type {\n",
       "        vertical-align: middle;\n",
       "    }\n",
       "\n",
       "    .dataframe tbody tr th {\n",
       "        vertical-align: top;\n",
       "    }\n",
       "\n",
       "    .dataframe thead th {\n",
       "        text-align: right;\n",
       "    }\n",
       "</style>\n",
       "<table border=\"1\" class=\"dataframe\">\n",
       "  <thead>\n",
       "    <tr style=\"text-align: right;\">\n",
       "      <th></th>\n",
       "      <th>picture</th>\n",
       "      <th>rate</th>\n",
       "      <th>rules</th>\n",
       "      <th>schedule</th>\n",
       "      <th>searcha</th>\n",
       "      <th>tel</th>\n",
       "      <th>text</th>\n",
       "      <th>textmore</th>\n",
       "      <th>ticket</th>\n",
       "      <th>timeline</th>\n",
       "      <th>virtual_tour</th>\n",
       "      <th>yamapcoords</th>\n",
       "    </tr>\n",
       "  </thead>\n",
       "  <tbody>\n",
       "    <tr>\n",
       "      <th>116</th>\n",
       "      <td>/json/svg/main_building.svg</td>\n",
       "      <td>{'ru': '&lt;p&gt;&lt;a href=\"https://pushkinmuseum.art/...</td>\n",
       "      <td>{'ru': '&lt;p&gt;&lt;a title=\"Полные доступны по ссылке...</td>\n",
       "      <td>{'regulars': {'sun': {'timebegin': '11:00', 't...</td>\n",
       "      <td>{'ru': 'Основное здание музея по адресу ул. Во...</td>\n",
       "      <td>{'ru': '&lt;p&gt;Автоответчик:&lt;br /&gt;+7 (495) 609-95-...</td>\n",
       "      <td>{'ru': '&lt;p&gt;Изменения в режиме работы здания:&lt;/...</td>\n",
       "      <td>{'ru': '&lt;p&gt;Музей создавался на основе Кабинета...</td>\n",
       "      <td></td>\n",
       "      <td>{'ru': '&lt;p&gt;&lt;strong&gt;C 16 сентября по 3 ноября &lt;...</td>\n",
       "      <td>{'preview': {'pc': '/museum/buildings/main/blo...</td>\n",
       "      <td>17,55.747272,37.605283</td>\n",
       "    </tr>\n",
       "    <tr>\n",
       "      <th>117</th>\n",
       "      <td>/json/svg/gallery.svg</td>\n",
       "      <td>{'ru': '&lt;p&gt;&lt;a href=\"https://pushkinmuseum.art/...</td>\n",
       "      <td>{'ru': '&lt;p&gt;&lt;a title=\"Полные правила доступны п...</td>\n",
       "      <td>{'regulars': {'sun': {'timebegin': '11:00', 't...</td>\n",
       "      <td>{'ru': 'Галерея искусства стран Европы и Амери...</td>\n",
       "      <td>{'ru': '&lt;p&gt;Автоответчик: +7 (495) 609-95-20&lt;/p...</td>\n",
       "      <td>{'ru': '&lt;p&gt;Изменения в режиме работы здания:&lt;/...</td>\n",
       "      <td>{'ru': '&lt;p&gt;До наших дней в своем первоначально...</td>\n",
       "      <td></td>\n",
       "      <td>{'ru': '&lt;p&gt;&lt;strong&gt;С 1 по 20 октября в связи с...</td>\n",
       "      <td>{'preview': {'pc': '/museum/buildings/gallery/...</td>\n",
       "      <td>17,55.746668,37.605123</td>\n",
       "    </tr>\n",
       "    <tr>\n",
       "      <th>118</th>\n",
       "      <td>/json/svg/olk.svg</td>\n",
       "      <td>{'ru': '', 'en': ''}</td>\n",
       "      <td>{'ru': '', 'en': ''}</td>\n",
       "      <td></td>\n",
       "      <td>{'ru': '', 'en': ''}</td>\n",
       "      <td>{'ru': '&lt;p&gt;Справки по телефону: +7 (495) 697-1...</td>\n",
       "      <td>{'ru': '&lt;p&gt;Отдел личных коллекций &amp;ndash; один...</td>\n",
       "      <td>{'ru': '&lt;p&gt;Открытие здания отдела состоялось 2...</td>\n",
       "      <td></td>\n",
       "      <td>{'ru': '', 'en': ''}</td>\n",
       "      <td>NaN</td>\n",
       "      <td>17,55.747552,37.607290</td>\n",
       "    </tr>\n",
       "    <tr>\n",
       "      <th>119</th>\n",
       "      <td>/json/svg/museyon.svg</td>\n",
       "      <td>{'ru': '', 'en': ''}</td>\n",
       "      <td>{'ru': '&lt;p&gt;&lt;a title=\"Полные правила доступны п...</td>\n",
       "      <td>{'regulars': {'sun': {'timebegin': '11:00', 't...</td>\n",
       "      <td>{'ru': 'Центр эстетического воспитания «Мусейо...</td>\n",
       "      <td>{'ru': '&lt;p&gt;Автоответчик: +7 (495) 609-95-20&lt;/p...</td>\n",
       "      <td>{'ru': '&lt;p&gt;Центр эстетического воспитания дете...</td>\n",
       "      <td>{'ru': '&lt;p&gt;В древние времена это был квартал б...</td>\n",
       "      <td></td>\n",
       "      <td>{'ru': '&lt;p&gt;&lt;strong&gt;ВТ, СР, ЧТ, ПТ, СБ, ВС&lt;/str...</td>\n",
       "      <td>NaN</td>\n",
       "      <td>17,55.748248,37.606088</td>\n",
       "    </tr>\n",
       "    <tr>\n",
       "      <th>120</th>\n",
       "      <td>/json/svg/rggu.svg</td>\n",
       "      <td>{'ru': '&lt;p&gt;&lt;strong&gt;Вход в музей свободный&lt;/str...</td>\n",
       "      <td>{'ru': '&lt;p&gt;&lt;a title=\"Полные правила доступны п...</td>\n",
       "      <td>{'regulars': {'sun': {}, 'mon': {}, 'tue': {'t...</td>\n",
       "      <td>{'ru': 'Учебный художественный музей им. И.В. ...</td>\n",
       "      <td>{'ru': '&lt;p&gt;Справки по телефону:&lt;br /&gt;+7 (499) ...</td>\n",
       "      <td>{'ru': '&lt;p&gt;&lt;em&gt;О новостях Учебного музея и о в...</td>\n",
       "      <td>{'ru': '', 'en': ''}</td>\n",
       "      <td></td>\n",
       "      <td>{'ru': '&lt;p&gt;&lt;strong&gt;ВТ, СР, ЧТ, ПТ, СБ&lt;/strong&gt;...</td>\n",
       "      <td>NaN</td>\n",
       "      <td>17,55.776767,37.595716</td>\n",
       "    </tr>\n",
       "    <tr>\n",
       "      <th>121</th>\n",
       "      <td>/json/svg/richter.svg</td>\n",
       "      <td>{'ru': '', 'en': ''}</td>\n",
       "      <td>{'ru': '', 'en': ''}</td>\n",
       "      <td>{'regulars': {'sun': {'timebegin': '12:00', 't...</td>\n",
       "      <td>{'ru': 'Мемориальная квартира Святослава Рихте...</td>\n",
       "      <td>{'ru': '', 'en': ''}</td>\n",
       "      <td>{'ru': '', 'en': ''}</td>\n",
       "      <td>{'ru': '', 'en': ''}</td>\n",
       "      <td></td>\n",
       "      <td>{'ru': '', 'en': ''}</td>\n",
       "      <td>NaN</td>\n",
       "      <td>17,55.760106,37.597480</td>\n",
       "    </tr>\n",
       "    <tr>\n",
       "      <th>122</th>\n",
       "      <td>/json/svg/usadba_golitsyn.svg</td>\n",
       "      <td>{'ru': '', 'en': ''}</td>\n",
       "      <td>{'ru': '', 'en': ''}</td>\n",
       "      <td></td>\n",
       "      <td>{'ru': '', 'en': ''}</td>\n",
       "      <td>{'ru': '', 'en': ''}</td>\n",
       "      <td>{'ru': '&lt;div class=\"statistics\"&gt;&lt;p&gt;Усадьба кня...</td>\n",
       "      <td>{'ru': '', 'en': ''}</td>\n",
       "      <td></td>\n",
       "      <td>{'ru': '', 'en': ''}</td>\n",
       "      <td>NaN</td>\n",
       "      <td>17,55.746547,37.604189</td>\n",
       "    </tr>\n",
       "    <tr>\n",
       "      <th>123</th>\n",
       "      <td>/json/svg/usadba_vyazemskih.svg</td>\n",
       "      <td>{'ru': '', 'en': ''}</td>\n",
       "      <td>{'ru': '', 'en': ''}</td>\n",
       "      <td></td>\n",
       "      <td>{'ru': '', 'en': ''}</td>\n",
       "      <td>{'ru': '', 'en': ''}</td>\n",
       "      <td>{'ru': '&lt;p&gt;Усадьба С.А. Голицына&amp;ndash;А.И. Вя...</td>\n",
       "      <td>{'ru': '', 'en': ''}</td>\n",
       "      <td></td>\n",
       "      <td>{'ru': '', 'en': ''}</td>\n",
       "      <td>NaN</td>\n",
       "      <td>17,55.747818,37.602806</td>\n",
       "    </tr>\n",
       "    <tr>\n",
       "      <th>124</th>\n",
       "      <td>/json/svg/dom_texta.svg</td>\n",
       "      <td>{'ru': '', 'en': ''}</td>\n",
       "      <td>{'ru': '', 'en': ''}</td>\n",
       "      <td></td>\n",
       "      <td>{'ru': '', 'en': ''}</td>\n",
       "      <td>{'ru': '', 'en': ''}</td>\n",
       "      <td>{'ru': '&lt;div class=\"statistics\"&gt;&lt;p&gt;Доходный до...</td>\n",
       "      <td>{'ru': '', 'en': ''}</td>\n",
       "      <td></td>\n",
       "      <td>{'ru': '', 'en': ''}</td>\n",
       "      <td>NaN</td>\n",
       "      <td>17,55.748708,37.606260</td>\n",
       "    </tr>\n",
       "    <tr>\n",
       "      <th>125</th>\n",
       "      <td>/json/svg/depositary.svg</td>\n",
       "      <td>{'ru': '', 'en': ''}</td>\n",
       "      <td>{'ru': '', 'en': ''}</td>\n",
       "      <td></td>\n",
       "      <td>{'ru': '', 'en': ''}</td>\n",
       "      <td>{'ru': '', 'en': ''}</td>\n",
       "      <td>{'ru': '&lt;p&gt;Новое строительство с сохранением и...</td>\n",
       "      <td>{'ru': '', 'en': ''}</td>\n",
       "      <td></td>\n",
       "      <td>{'ru': '', 'en': ''}</td>\n",
       "      <td>NaN</td>\n",
       "      <td>17,55.748587,37.606807</td>\n",
       "    </tr>\n",
       "    <tr>\n",
       "      <th>9575</th>\n",
       "      <td>/json/svg/tarusa.svg</td>\n",
       "      <td>{'ru': '', 'en': ''}</td>\n",
       "      <td>{'ru': '&lt;p&gt;&lt;a href=\"https://pushkinmuseum.art/...</td>\n",
       "      <td>{'regulars': {'sun': {'timebegin': '11:00', 't...</td>\n",
       "      <td>{'ru': 'В 2016 году мастерская была подарена Г...</td>\n",
       "      <td>{'ru': '', 'en': ''}</td>\n",
       "      <td>{'ru': '&lt;p&gt;Эдуард Аркадьевич Штейнберг (1937-2...</td>\n",
       "      <td>{'ru': '', 'en': ''}</td>\n",
       "      <td></td>\n",
       "      <td>{'ru': '&lt;div&gt;&lt;div&gt;Мастерская открыта с 1 июня ...</td>\n",
       "      <td>NaN</td>\n",
       "      <td>17,54.715525,37.187719</td>\n",
       "    </tr>\n",
       "  </tbody>\n",
       "</table>\n",
       "</div>"
      ],
      "text/plain": [
       "                              picture  \\\n",
       "116       /json/svg/main_building.svg   \n",
       "117             /json/svg/gallery.svg   \n",
       "118                 /json/svg/olk.svg   \n",
       "119             /json/svg/museyon.svg   \n",
       "120                /json/svg/rggu.svg   \n",
       "121             /json/svg/richter.svg   \n",
       "122     /json/svg/usadba_golitsyn.svg   \n",
       "123   /json/svg/usadba_vyazemskih.svg   \n",
       "124           /json/svg/dom_texta.svg   \n",
       "125          /json/svg/depositary.svg   \n",
       "9575             /json/svg/tarusa.svg   \n",
       "\n",
       "                                                   rate  \\\n",
       "116   {'ru': '<p><a href=\"https://pushkinmuseum.art/...   \n",
       "117   {'ru': '<p><a href=\"https://pushkinmuseum.art/...   \n",
       "118                                {'ru': '', 'en': ''}   \n",
       "119                                {'ru': '', 'en': ''}   \n",
       "120   {'ru': '<p><strong>Вход в музей свободный</str...   \n",
       "121                                {'ru': '', 'en': ''}   \n",
       "122                                {'ru': '', 'en': ''}   \n",
       "123                                {'ru': '', 'en': ''}   \n",
       "124                                {'ru': '', 'en': ''}   \n",
       "125                                {'ru': '', 'en': ''}   \n",
       "9575                               {'ru': '', 'en': ''}   \n",
       "\n",
       "                                                  rules  \\\n",
       "116   {'ru': '<p><a title=\"Полные доступны по ссылке...   \n",
       "117   {'ru': '<p><a title=\"Полные правила доступны п...   \n",
       "118                                {'ru': '', 'en': ''}   \n",
       "119   {'ru': '<p><a title=\"Полные правила доступны п...   \n",
       "120   {'ru': '<p><a title=\"Полные правила доступны п...   \n",
       "121                                {'ru': '', 'en': ''}   \n",
       "122                                {'ru': '', 'en': ''}   \n",
       "123                                {'ru': '', 'en': ''}   \n",
       "124                                {'ru': '', 'en': ''}   \n",
       "125                                {'ru': '', 'en': ''}   \n",
       "9575  {'ru': '<p><a href=\"https://pushkinmuseum.art/...   \n",
       "\n",
       "                                               schedule  \\\n",
       "116   {'regulars': {'sun': {'timebegin': '11:00', 't...   \n",
       "117   {'regulars': {'sun': {'timebegin': '11:00', 't...   \n",
       "118                                                       \n",
       "119   {'regulars': {'sun': {'timebegin': '11:00', 't...   \n",
       "120   {'regulars': {'sun': {}, 'mon': {}, 'tue': {'t...   \n",
       "121   {'regulars': {'sun': {'timebegin': '12:00', 't...   \n",
       "122                                                       \n",
       "123                                                       \n",
       "124                                                       \n",
       "125                                                       \n",
       "9575  {'regulars': {'sun': {'timebegin': '11:00', 't...   \n",
       "\n",
       "                                                searcha  \\\n",
       "116   {'ru': 'Основное здание музея по адресу ул. Во...   \n",
       "117   {'ru': 'Галерея искусства стран Европы и Амери...   \n",
       "118                                {'ru': '', 'en': ''}   \n",
       "119   {'ru': 'Центр эстетического воспитания «Мусейо...   \n",
       "120   {'ru': 'Учебный художественный музей им. И.В. ...   \n",
       "121   {'ru': 'Мемориальная квартира Святослава Рихте...   \n",
       "122                                {'ru': '', 'en': ''}   \n",
       "123                                {'ru': '', 'en': ''}   \n",
       "124                                {'ru': '', 'en': ''}   \n",
       "125                                {'ru': '', 'en': ''}   \n",
       "9575  {'ru': 'В 2016 году мастерская была подарена Г...   \n",
       "\n",
       "                                                    tel  \\\n",
       "116   {'ru': '<p>Автоответчик:<br />+7 (495) 609-95-...   \n",
       "117   {'ru': '<p>Автоответчик: +7 (495) 609-95-20</p...   \n",
       "118   {'ru': '<p>Справки по телефону: +7 (495) 697-1...   \n",
       "119   {'ru': '<p>Автоответчик: +7 (495) 609-95-20</p...   \n",
       "120   {'ru': '<p>Справки по телефону:<br />+7 (499) ...   \n",
       "121                                {'ru': '', 'en': ''}   \n",
       "122                                {'ru': '', 'en': ''}   \n",
       "123                                {'ru': '', 'en': ''}   \n",
       "124                                {'ru': '', 'en': ''}   \n",
       "125                                {'ru': '', 'en': ''}   \n",
       "9575                               {'ru': '', 'en': ''}   \n",
       "\n",
       "                                                   text  \\\n",
       "116   {'ru': '<p>Изменения в режиме работы здания:</...   \n",
       "117   {'ru': '<p>Изменения в режиме работы здания:</...   \n",
       "118   {'ru': '<p>Отдел личных коллекций &ndash; один...   \n",
       "119   {'ru': '<p>Центр эстетического воспитания дете...   \n",
       "120   {'ru': '<p><em>О новостях Учебного музея и о в...   \n",
       "121                                {'ru': '', 'en': ''}   \n",
       "122   {'ru': '<div class=\"statistics\"><p>Усадьба кня...   \n",
       "123   {'ru': '<p>Усадьба С.А. Голицына&ndash;А.И. Вя...   \n",
       "124   {'ru': '<div class=\"statistics\"><p>Доходный до...   \n",
       "125   {'ru': '<p>Новое строительство с сохранением и...   \n",
       "9575  {'ru': '<p>Эдуард Аркадьевич Штейнберг (1937-2...   \n",
       "\n",
       "                                               textmore ticket  \\\n",
       "116   {'ru': '<p>Музей создавался на основе Кабинета...          \n",
       "117   {'ru': '<p>До наших дней в своем первоначально...          \n",
       "118   {'ru': '<p>Открытие здания отдела состоялось 2...          \n",
       "119   {'ru': '<p>В древние времена это был квартал б...          \n",
       "120                                {'ru': '', 'en': ''}          \n",
       "121                                {'ru': '', 'en': ''}          \n",
       "122                                {'ru': '', 'en': ''}          \n",
       "123                                {'ru': '', 'en': ''}          \n",
       "124                                {'ru': '', 'en': ''}          \n",
       "125                                {'ru': '', 'en': ''}          \n",
       "9575                               {'ru': '', 'en': ''}          \n",
       "\n",
       "                                               timeline  \\\n",
       "116   {'ru': '<p><strong>C 16 сентября по 3 ноября <...   \n",
       "117   {'ru': '<p><strong>С 1 по 20 октября в связи с...   \n",
       "118                                {'ru': '', 'en': ''}   \n",
       "119   {'ru': '<p><strong>ВТ, СР, ЧТ, ПТ, СБ, ВС</str...   \n",
       "120   {'ru': '<p><strong>ВТ, СР, ЧТ, ПТ, СБ</strong>...   \n",
       "121                                {'ru': '', 'en': ''}   \n",
       "122                                {'ru': '', 'en': ''}   \n",
       "123                                {'ru': '', 'en': ''}   \n",
       "124                                {'ru': '', 'en': ''}   \n",
       "125                                {'ru': '', 'en': ''}   \n",
       "9575  {'ru': '<div><div>Мастерская открыта с 1 июня ...   \n",
       "\n",
       "                                           virtual_tour  \\\n",
       "116   {'preview': {'pc': '/museum/buildings/main/blo...   \n",
       "117   {'preview': {'pc': '/museum/buildings/gallery/...   \n",
       "118                                                 NaN   \n",
       "119                                                 NaN   \n",
       "120                                                 NaN   \n",
       "121                                                 NaN   \n",
       "122                                                 NaN   \n",
       "123                                                 NaN   \n",
       "124                                                 NaN   \n",
       "125                                                 NaN   \n",
       "9575                                                NaN   \n",
       "\n",
       "                 yamapcoords  \n",
       "116   17,55.747272,37.605283  \n",
       "117   17,55.746668,37.605123  \n",
       "118   17,55.747552,37.607290  \n",
       "119   17,55.748248,37.606088  \n",
       "120   17,55.776767,37.595716  \n",
       "121   17,55.760106,37.597480  \n",
       "122   17,55.746547,37.604189  \n",
       "123   17,55.747818,37.602806  \n",
       "124   17,55.748708,37.606260  \n",
       "125   17,55.748587,37.606807  \n",
       "9575  17,54.715525,37.187719  "
      ]
     },
     "execution_count": 189,
     "metadata": {},
     "output_type": "execute_result"
    }
   ],
   "source": [
    "df_ru[['picture', 'rate', 'rules', 'schedule', 'searcha', 'tel', 'text', 'textmore', 'ticket', 'timeline', 'virtual_tour', 'yamapcoords']]1"
   ]
  },
  {
   "cell_type": "code",
   "execution_count": 178,
   "metadata": {},
   "outputs": [],
   "source": [
    "df_ru[\"audiog\"] = df_ru[\"audiog\"].apply(lambda x: x[\"ru\"])"
   ]
  },
  {
   "cell_type": "code",
   "execution_count": null,
   "metadata": {},
   "outputs": [],
   "source": []
  }
 ],
 "metadata": {
  "kernelspec": {
   "display_name": "Python 3",
   "language": "python",
   "name": "python3"
  },
  "language_info": {
   "codemirror_mode": {
    "name": "ipython",
    "version": 3
   },
   "file_extension": ".py",
   "mimetype": "text/x-python",
   "name": "python",
   "nbconvert_exporter": "python",
   "pygments_lexer": "ipython3",
   "version": "3.7.3"
  }
 },
 "nbformat": 4,
 "nbformat_minor": 2
}
