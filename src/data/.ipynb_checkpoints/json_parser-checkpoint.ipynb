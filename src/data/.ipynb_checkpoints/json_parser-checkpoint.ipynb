{
 "cells": [
  {
   "cell_type": "code",
   "execution_count": 1,
   "metadata": {},
   "outputs": [],
   "source": [
    "import json\n",
    "import os\n",
    "import pandas as pd"
   ]
  },
  {
   "cell_type": "markdown",
   "metadata": {},
   "source": [
    "### Objects"
   ]
  },
  {
   "cell_type": "code",
   "execution_count": 154,
   "metadata": {},
   "outputs": [],
   "source": [
    "df = pd.read_json('/Users/alexander/sasha/src/data/parsed/events_exhibition.json').T"
   ]
  },
  {
   "cell_type": "code",
   "execution_count": 95,
   "metadata": {},
   "outputs": [],
   "source": [
    "with open('/Users/alexander/sasha/src/data/parsed/events_exhibition.json') as f:\n",
    "    temp = json.load(f)"
   ]
  },
  {
   "cell_type": "code",
   "execution_count": 88,
   "metadata": {},
   "outputs": [],
   "source": [
    "df_concert = df.T[df.T['type'] == 'Выставка']"
   ]
  },
  {
   "cell_type": "code",
   "execution_count": 89,
   "metadata": {},
   "outputs": [],
   "source": [
    "df_concert.T.to_json('/Users/alexander/sasha/src/data/parsed/events_exhibition.json')"
   ]
  },
  {
   "cell_type": "code",
   "execution_count": 32,
   "metadata": {},
   "outputs": [
    {
     "name": "stdout",
     "output_type": "stream",
     "text": [
      "dict_keys(['126', '127'])\n",
      "dict_keys(['131', '132'])\n"
     ]
    },
    {
     "ename": "AttributeError",
     "evalue": "'str' object has no attribute 'keys'",
     "output_type": "error",
     "traceback": [
      "\u001b[0;31m---------------------------------------------------------------------------\u001b[0m",
      "\u001b[0;31mAttributeError\u001b[0m                            Traceback (most recent call last)",
      "\u001b[0;32m<ipython-input-32-1ed968ee070c>\u001b[0m in \u001b[0;36m<module>\u001b[0;34m()\u001b[0m\n\u001b[1;32m      1\u001b[0m \u001b[0;32mfor\u001b[0m \u001b[0mbuilding\u001b[0m \u001b[0;32min\u001b[0m \u001b[0mdf\u001b[0m\u001b[0;34m.\u001b[0m\u001b[0mT\u001b[0m\u001b[0;34m[\u001b[0m\u001b[0;34m'floors'\u001b[0m\u001b[0;34m]\u001b[0m\u001b[0;34m:\u001b[0m\u001b[0;34m\u001b[0m\u001b[0m\n\u001b[0;32m----> 2\u001b[0;31m     \u001b[0mprint\u001b[0m\u001b[0;34m(\u001b[0m\u001b[0mbuilding\u001b[0m\u001b[0;34m.\u001b[0m\u001b[0mkeys\u001b[0m\u001b[0;34m(\u001b[0m\u001b[0;34m)\u001b[0m\u001b[0;34m)\u001b[0m\u001b[0;34m\u001b[0m\u001b[0m\n\u001b[0m",
      "\u001b[0;31mAttributeError\u001b[0m: 'str' object has no attribute 'keys'"
     ]
    }
   ],
   "source": [
    "for building in df.T['floors']:\n",
    "    print(building.keys())"
   ]
  },
  {
   "cell_type": "code",
   "execution_count": 45,
   "metadata": {},
   "outputs": [
    {
     "ename": "AttributeError",
     "evalue": "'str' object has no attribute 'keys'",
     "output_type": "error",
     "traceback": [
      "\u001b[0;31m---------------------------------------------------------------------------\u001b[0m",
      "\u001b[0;31mAttributeError\u001b[0m                            Traceback (most recent call last)",
      "\u001b[0;32m<ipython-input-45-e838bcc14fe5>\u001b[0m in \u001b[0;36m<module>\u001b[0;34m()\u001b[0m\n\u001b[1;32m      1\u001b[0m \u001b[0mdf_parse\u001b[0m \u001b[0;34m=\u001b[0m \u001b[0mpd\u001b[0m\u001b[0;34m.\u001b[0m\u001b[0mDataFrame\u001b[0m\u001b[0;34m(\u001b[0m\u001b[0mcolumns\u001b[0m\u001b[0;34m=\u001b[0m\u001b[0;34m[\u001b[0m\u001b[0;34m'building_id'\u001b[0m\u001b[0;34m,\u001b[0m \u001b[0;34m'hall_id'\u001b[0m\u001b[0;34m,\u001b[0m \u001b[0;34m'hall_num'\u001b[0m\u001b[0;34m,\u001b[0m \u001b[0;34m'hall_desc'\u001b[0m\u001b[0;34m]\u001b[0m\u001b[0;34m)\u001b[0m\u001b[0;34m\u001b[0m\u001b[0m\n\u001b[1;32m      2\u001b[0m \u001b[0;32mfor\u001b[0m \u001b[0mbuilding_id\u001b[0m\u001b[0;34m,\u001b[0m \u001b[0mbuilding\u001b[0m \u001b[0;32min\u001b[0m \u001b[0mzip\u001b[0m\u001b[0;34m(\u001b[0m\u001b[0mdf\u001b[0m\u001b[0;34m.\u001b[0m\u001b[0mT\u001b[0m\u001b[0;34m.\u001b[0m\u001b[0mindex\u001b[0m\u001b[0;34m,\u001b[0m \u001b[0mdf\u001b[0m\u001b[0;34m.\u001b[0m\u001b[0mT\u001b[0m\u001b[0;34m[\u001b[0m\u001b[0;34m'floors'\u001b[0m\u001b[0;34m]\u001b[0m\u001b[0;34m)\u001b[0m\u001b[0;34m:\u001b[0m\u001b[0;34m\u001b[0m\u001b[0m\n\u001b[0;32m----> 3\u001b[0;31m     \u001b[0;32mfor\u001b[0m \u001b[0mfloor_id\u001b[0m \u001b[0;32min\u001b[0m \u001b[0mbuilding\u001b[0m\u001b[0;34m.\u001b[0m\u001b[0mkeys\u001b[0m\u001b[0;34m(\u001b[0m\u001b[0;34m)\u001b[0m\u001b[0;34m:\u001b[0m\u001b[0;34m\u001b[0m\u001b[0m\n\u001b[0m\u001b[1;32m      4\u001b[0m         \u001b[0;32mfor\u001b[0m \u001b[0mhall_id\u001b[0m \u001b[0;32min\u001b[0m \u001b[0mbuilding\u001b[0m\u001b[0;34m[\u001b[0m\u001b[0mfloor_id\u001b[0m\u001b[0;34m]\u001b[0m\u001b[0;34m[\u001b[0m\u001b[0;34m'halls'\u001b[0m\u001b[0;34m]\u001b[0m\u001b[0;34m.\u001b[0m\u001b[0mkeys\u001b[0m\u001b[0;34m(\u001b[0m\u001b[0;34m)\u001b[0m\u001b[0;34m:\u001b[0m\u001b[0;34m\u001b[0m\u001b[0m\n\u001b[1;32m      5\u001b[0m             \u001b[0mrow\u001b[0m \u001b[0;34m=\u001b[0m \u001b[0;34m{\u001b[0m\u001b[0;34m'building_id'\u001b[0m\u001b[0;34m:\u001b[0m \u001b[0mbuilding_id\u001b[0m\u001b[0;34m,\u001b[0m \u001b[0;34m'hall_id'\u001b[0m\u001b[0;34m:\u001b[0m \u001b[0mhall_id\u001b[0m\u001b[0;34m,\u001b[0m \u001b[0;34m'hall_num'\u001b[0m\u001b[0;34m:\u001b[0m \u001b[0mbuilding\u001b[0m\u001b[0;34m[\u001b[0m\u001b[0mfloor_id\u001b[0m\u001b[0;34m]\u001b[0m\u001b[0;34m[\u001b[0m\u001b[0;34m'halls'\u001b[0m\u001b[0;34m]\u001b[0m\u001b[0;34m[\u001b[0m\u001b[0mhall_id\u001b[0m\u001b[0;34m]\u001b[0m\u001b[0;34m[\u001b[0m\u001b[0;34m'number'\u001b[0m\u001b[0;34m]\u001b[0m\u001b[0;34m,\u001b[0m                   \u001b[0;34m'hall_desc'\u001b[0m\u001b[0;34m:\u001b[0m \u001b[0mbuilding\u001b[0m\u001b[0;34m[\u001b[0m\u001b[0mfloor_id\u001b[0m\u001b[0;34m]\u001b[0m\u001b[0;34m[\u001b[0m\u001b[0;34m'halls'\u001b[0m\u001b[0;34m]\u001b[0m\u001b[0;34m[\u001b[0m\u001b[0mhall_id\u001b[0m\u001b[0;34m]\u001b[0m\u001b[0;34m[\u001b[0m\u001b[0;34m'text'\u001b[0m\u001b[0;34m]\u001b[0m\u001b[0;34m[\u001b[0m\u001b[0;34m'ru'\u001b[0m\u001b[0;34m]\u001b[0m\u001b[0;34m}\u001b[0m\u001b[0;34m\u001b[0m\u001b[0m\n",
      "\u001b[0;31mAttributeError\u001b[0m: 'str' object has no attribute 'keys'"
     ]
    }
   ],
   "source": [
    "df_parse = pd.DataFrame(columns=['building_id', 'hall_id', 'hall_num', 'hall_desc'])\n",
    "for building_id, building in zip(df.T.index, df.T['floors']):\n",
    "    for floor_id in building.keys():\n",
    "        for hall_id in building[floor_id]['halls'].keys():\n",
    "            row = {'building_id': building_id, 'hall_id': hall_id, 'hall_num': building[floor_id]['halls'][hall_id]['number'],\\\n",
    "                   'hall_desc': building[floor_id]['halls'][hall_id]['text']['ru']}\n",
    "            df_parse = df_parse.append(row, ignore_index=True)"
   ]
  },
  {
   "cell_type": "code",
   "execution_count": 48,
   "metadata": {},
   "outputs": [],
   "source": [
    "df_parse.to_csv('/Users/alexander/sasha/src/data/parsed/halls_info.csv', index=None)"
   ]
  },
  {
   "cell_type": "code",
   "execution_count": 91,
   "metadata": {},
   "outputs": [
    {
     "name": "stdout",
     "output_type": "stream",
     "text": [
      "json_parser.ipynb \u001b[1m\u001b[36mold\u001b[m\u001b[m               \u001b[1m\u001b[36mparsed\u001b[m\u001b[m\r\n"
     ]
    }
   ],
   "source": [
    "!ls"
   ]
  },
  {
   "cell_type": "code",
   "execution_count": 92,
   "metadata": {},
   "outputs": [],
   "source": [
    "df = pd.read_json('./parsed/objects_rus.json').T[['get_year', \"gallery\" ,'hall', 'litra', 'm_parent_id', 'masterpiece', 'material', 'name', 'origplace','paint_school', 'path', 'period', 'producein', 'restor', 'seakeys', 'show_in_collection', 'show_in_hall', 'size', 'text', 'type', 'year']]"
   ]
  },
  {
   "cell_type": "code",
   "execution_count": 93,
   "metadata": {},
   "outputs": [],
   "source": [
    "df[\"audio\"] = \"\""
   ]
  },
  {
   "cell_type": "code",
   "execution_count": 94,
   "metadata": {},
   "outputs": [
    {
     "data": {
      "text/html": [
       "<div>\n",
       "<style scoped>\n",
       "    .dataframe tbody tr th:only-of-type {\n",
       "        vertical-align: middle;\n",
       "    }\n",
       "\n",
       "    .dataframe tbody tr th {\n",
       "        vertical-align: top;\n",
       "    }\n",
       "\n",
       "    .dataframe thead th {\n",
       "        text-align: right;\n",
       "    }\n",
       "</style>\n",
       "<table border=\"1\" class=\"dataframe\">\n",
       "  <thead>\n",
       "    <tr style=\"text-align: right;\">\n",
       "      <th></th>\n",
       "      <th>get_year</th>\n",
       "      <th>gallery</th>\n",
       "      <th>hall</th>\n",
       "      <th>litra</th>\n",
       "      <th>m_parent_id</th>\n",
       "      <th>masterpiece</th>\n",
       "      <th>material</th>\n",
       "      <th>name</th>\n",
       "      <th>origplace</th>\n",
       "      <th>paint_school</th>\n",
       "      <th>...</th>\n",
       "      <th>producein</th>\n",
       "      <th>restor</th>\n",
       "      <th>seakeys</th>\n",
       "      <th>show_in_collection</th>\n",
       "      <th>show_in_hall</th>\n",
       "      <th>size</th>\n",
       "      <th>text</th>\n",
       "      <th>type</th>\n",
       "      <th>year</th>\n",
       "      <th>audio</th>\n",
       "    </tr>\n",
       "  </thead>\n",
       "  <tbody>\n",
       "    <tr>\n",
       "      <th>6862</th>\n",
       "      <td>0</td>\n",
       "      <td>{'1': {'id01': '/data/fonds/europe_and_america...</td>\n",
       "      <td>None</td>\n",
       "      <td></td>\n",
       "      <td>3943</td>\n",
       "      <td>0</td>\n",
       "      <td>холст, масло</td>\n",
       "      <td>Голова ангела</td>\n",
       "      <td>None</td>\n",
       "      <td>Италия</td>\n",
       "      <td>...</td>\n",
       "      <td></td>\n",
       "      <td></td>\n",
       "      <td>Ж-3065 Голова ангела</td>\n",
       "      <td>1</td>\n",
       "      <td>0</td>\n",
       "      <td>46х35  см.</td>\n",
       "      <td></td>\n",
       "      <td>Живопись</td>\n",
       "      <td>0</td>\n",
       "      <td></td>\n",
       "    </tr>\n",
       "  </tbody>\n",
       "</table>\n",
       "<p>1 rows × 22 columns</p>\n",
       "</div>"
      ],
      "text/plain": [
       "     get_year                                            gallery  hall litra  \\\n",
       "6862        0  {'1': {'id01': '/data/fonds/europe_and_america...  None         \n",
       "\n",
       "     m_parent_id masterpiece      material           name origplace  \\\n",
       "6862        3943           0  холст, масло  Голова ангела      None   \n",
       "\n",
       "     paint_school  ... producein restor               seakeys  \\\n",
       "6862       Италия  ...                   Ж-3065 Голова ангела   \n",
       "\n",
       "     show_in_collection show_in_hall        size text      type year audio  \n",
       "6862                  1            0  46х35  см.       Живопись    0        \n",
       "\n",
       "[1 rows x 22 columns]"
      ]
     },
     "execution_count": 94,
     "metadata": {},
     "output_type": "execute_result"
    }
   ],
   "source": [
    "df[df[\"name\"] == \"Голова ангела\"]"
   ]
  },
  {
   "cell_type": "code",
   "execution_count": 85,
   "metadata": {},
   "outputs": [],
   "source": [
    "df.loc[6862, \"audio\"] = \"https://media.izi.travel/fae0d384-5475-4134-a0bf-eab6bbf42a1b/4a966c10-8178-469f-9865-ee4992e7144d.m4a\"\n",
    "df.loc[5280, \"audio\"] = \"https://media.izi.travel/fae0d384-5475-4134-a0bf-eab6bbf42a1b/10c997f2-e12b-4d03-9b59-a9d1949bc125.m4a\"\n",
    "df.loc[4168, \"audio\"] = \"https://media.izi.travel/fae0d384-5475-4134-a0bf-eab6bbf42a1b/11df9a42-ec7f-4bde-b4a1-219e8956952b.m4a\"\n",
    "df.loc[4011, \"audio\"] = \"https://media.izi.travel/fae0d384-5475-4134-a0bf-eab6bbf42a1b/b12c8091-b922-4672-809d-797a91d34154.m4a\"\n",
    "\n"
   ]
  },
  {
   "cell_type": "code",
   "execution_count": 97,
   "metadata": {},
   "outputs": [
    {
     "data": {
      "text/html": [
       "<div>\n",
       "<style scoped>\n",
       "    .dataframe tbody tr th:only-of-type {\n",
       "        vertical-align: middle;\n",
       "    }\n",
       "\n",
       "    .dataframe tbody tr th {\n",
       "        vertical-align: top;\n",
       "    }\n",
       "\n",
       "    .dataframe thead th {\n",
       "        text-align: right;\n",
       "    }\n",
       "</style>\n",
       "<table border=\"1\" class=\"dataframe\">\n",
       "  <thead>\n",
       "    <tr style=\"text-align: right;\">\n",
       "      <th></th>\n",
       "      <th>name</th>\n",
       "      <th>audio</th>\n",
       "    </tr>\n",
       "  </thead>\n",
       "  <tbody>\n",
       "    <tr>\n",
       "      <th>7021</th>\n",
       "      <td>Христос и грешница</td>\n",
       "      <td></td>\n",
       "    </tr>\n",
       "    <tr>\n",
       "      <th>6951</th>\n",
       "      <td>Христос и грешница</td>\n",
       "      <td></td>\n",
       "    </tr>\n",
       "    <tr>\n",
       "      <th>5280</th>\n",
       "      <td>Христос и грешница</td>\n",
       "      <td></td>\n",
       "    </tr>\n",
       "  </tbody>\n",
       "</table>\n",
       "</div>"
      ],
      "text/plain": [
       "                    name audio\n",
       "7021  Христос и грешница      \n",
       "6951  Христос и грешница      \n",
       "5280  Христос и грешница      "
      ]
     },
     "execution_count": 97,
     "metadata": {},
     "output_type": "execute_result"
    }
   ],
   "source": [
    "df[df[\"name\"] == \"Пьеро и Арлекин\"][[\"name\", \"audio\"]]\n",
    "df[df[\"name\"] == \"Белые кувшинки\"][[\"name\", \"audio\"]]\n",
    "df[df[\"name\"] == \"Христос и грешница\"][[\"name\", \"audio\"]] "
   ]
  },
  {
   "cell_type": "code",
   "execution_count": 74,
   "metadata": {},
   "outputs": [],
   "source": [
    "df_ru = df.copy()\n",
    "df_ru[\"litra\"] = df_ru['litra'].apply(lambda x: x[\"ru\"])\n",
    "df_ru[\"material\"] = df_ru['material'].apply(lambda x: x[\"ru\"])\n",
    "df_ru[\"name\"] = df_ru['name'].apply(lambda x: x[\"ru\"])\n",
    "df_ru[\"paint_school\"] = df_ru['paint_school'].apply(lambda x: x[\"ru\"] if x else \"\")\n",
    "df_ru[\"producein\"] = df_ru['producein'].apply(lambda x: x[\"ru\"])\n",
    "df_ru[\"restor\"] = df_ru['restor'].apply(lambda x: x[\"ru\"])\n",
    "df_ru[\"seakeys\"] = df_ru['seakeys'].apply(lambda x: x[\"ru\"])\n",
    "df_ru[\"size\"] = df_ru['size'].apply(lambda x: x[\"ru\"])\n",
    "df_ru[\"text\"] = df_ru['text'].apply(lambda x: x[\"ru\"])\n",
    "df_ru[\"type\"] = df_ru['type'].apply(lambda x: x[\"ru\"])\n",
    "df_ru[\"period_text\"] = df_ru['period'].apply(lambda x: x[\"text\"][\"ru\"] if x else \"\")\n",
    "df_ru[\"period_name\"] = df_ru['period'].apply(lambda x: x[\"name\"][\"ru\"] if x else \"\")"
   ]
  },
  {
   "cell_type": "code",
   "execution_count": 42,
   "metadata": {},
   "outputs": [
    {
     "data": {
      "text/plain": [
       "array(['', 'Италия', 'Англия', 'Испания', 'Швейцария', 'Фландрия',\n",
       "       'Польша', 'Голландия', 'Австрия', 'Россия', 'Франция', 'Венгрия',\n",
       "       'Чехия', 'Германия', 'США', 'Румыния', 'Болгария', 'Римская',\n",
       "       'Мексика', 'Византийская', 'Нидерланды', 'Швеция', 'Норвегия',\n",
       "       'Бельгия', 'Финляндия', 'Австралия'], dtype=object)"
      ]
     },
     "execution_count": 42,
     "metadata": {},
     "output_type": "execute_result"
    }
   ],
   "source": [
    "df_ru.paint_school.unique()"
   ]
  },
  {
   "cell_type": "code",
   "execution_count": 47,
   "metadata": {},
   "outputs": [],
   "source": [
    "df_eng = df.copy()\n",
    "df_eng[\"litra\"] = df_eng['litra'].apply(lambda x: x[\"en\"])\n",
    "df_eng[\"material\"] = df_eng['material'].apply(lambda x: x[\"en\"])\n",
    "df_eng[\"name\"] = df_eng['name'].apply(lambda x: x[\"en\"])\n",
    "df_eng[\"paint_school\"] = df_eng['paint_school'].apply(lambda x: x[\"en\"] if x else \"\")\n",
    "df_eng[\"producein\"] = df_eng['producein'].apply(lambda x: x[\"en\"])\n",
    "df_eng[\"restor\"] = df_eng['restor'].apply(lambda x: x[\"en\"])\n",
    "df_eng[\"seakeys\"] = df_eng['seakeys'].apply(lambda x: x[\"en\"])\n",
    "df_eng[\"size\"] = df_eng['size'].apply(lambda x: x[\"en\"])\n",
    "df_eng[\"text\"] = df_eng['text'].apply(lambda x: x[\"en\"])\n",
    "df_eng[\"type\"] = df_eng['type'].apply(lambda x: x[\"en\"])\n",
    "df_eng[\"period_text\"] = df_eng['period'].apply(lambda x: x[\"text\"][\"en\"] if x else \"\")\n",
    "df_eng[\"period_name\"] = df_eng['period'].apply(lambda x: x[\"name\"][\"en\"] if x else \"\")"
   ]
  },
  {
   "cell_type": "code",
   "execution_count": 6,
   "metadata": {},
   "outputs": [
    {
     "data": {
      "text/plain": [
       "'/Users/maximzubkov/Desktop/Programming/sasha/src/data'"
      ]
     },
     "execution_count": 6,
     "metadata": {},
     "output_type": "execute_result"
    }
   ],
   "source": [
    "os.getcwd()"
   ]
  },
  {
   "cell_type": "code",
   "execution_count": 65,
   "metadata": {},
   "outputs": [],
   "source": [
    "df_ru.T.to_json(\"./parsed/objects_rus.json\")\n",
    "df_eng.T.to_json(\"./parsed/objects_eng.json\")"
   ]
  },
  {
   "cell_type": "markdown",
   "metadata": {},
   "source": [
    "### Events"
   ]
  },
  {
   "cell_type": "code",
   "execution_count": 8,
   "metadata": {},
   "outputs": [],
   "source": [
    "df = pd.read_json('./old/events.json').T[['building', 'dateBegin', 'dateEnd', 'gallery', 'halls', 'm_parent_id', 'name', 'path', 'price', 'sponsors', 'text', 'ticket', 'type', 'within']]"
   ]
  },
  {
   "cell_type": "code",
   "execution_count": 9,
   "metadata": {},
   "outputs": [
    {
     "data": {
      "text/plain": [
       "Index(['building', 'dateBegin', 'dateEnd', 'gallery', 'halls', 'm_parent_id',\n",
       "       'name', 'path', 'price', 'sponsors', 'text', 'ticket', 'type',\n",
       "       'within'],\n",
       "      dtype='object')"
      ]
     },
     "execution_count": 9,
     "metadata": {},
     "output_type": "execute_result"
    }
   ],
   "source": [
    "df.columns"
   ]
  },
  {
   "cell_type": "code",
   "execution_count": 10,
   "metadata": {},
   "outputs": [],
   "source": [
    "df_ru = df.copy()\n",
    "df_ru[\"type\"] = df_ru[\"type\"].apply(lambda x: x[\"ru\"])\n",
    "df_ru[\"halls\"] = df_ru[\"halls\"].apply(lambda x: x[\"ru\"])\n",
    "df_ru[\"text\"] = df_ru[\"text\"].apply(lambda x: x[\"ru\"])\n",
    "df_ru[\"price\"] = df_ru[\"price\"].apply(lambda x: x[\"ru\"])\n",
    "df_ru[\"name\"] = df_ru[\"name\"].apply(lambda x: x[\"ru\"])"
   ]
  },
  {
   "cell_type": "code",
   "execution_count": 11,
   "metadata": {},
   "outputs": [],
   "source": [
    "df_eng = df.copy()\n",
    "df_eng[\"type\"] = df_eng[\"type\"].apply(lambda x: x[\"ru\"])\n",
    "df_eng[\"halls\"] = df_eng[\"halls\"].apply(lambda x: x[\"ru\"])\n",
    "df_eng[\"text\"] = df_eng[\"text\"].apply(lambda x: x[\"ru\"])\n",
    "df_eng[\"price\"] = df_eng[\"price\"].apply(lambda x: x[\"ru\"])\n",
    "df_eng[\"name\"] = df_eng[\"name\"].apply(lambda x: x[\"ru\"])"
   ]
  },
  {
   "cell_type": "code",
   "execution_count": 12,
   "metadata": {},
   "outputs": [],
   "source": [
    "df_ru.T.to_json(\"./parsed/events_rus.json\")\n",
    "df_eng.T.to_json(\"./parsed/events_eng.json\")"
   ]
  },
  {
   "cell_type": "markdown",
   "metadata": {},
   "source": [
    "### Collects"
   ]
  },
  {
   "cell_type": "code",
   "execution_count": 13,
   "metadata": {},
   "outputs": [],
   "source": [
    "df = pd.read_json('./old/collects.json').T[['circ_img', 'headimg', 'img_mob', 'img_pc', 'name', 'path', 'seakeys', 'text', 'textmore']]"
   ]
  },
  {
   "cell_type": "code",
   "execution_count": 14,
   "metadata": {},
   "outputs": [],
   "source": [
    "df_ru = df.copy()"
   ]
  },
  {
   "cell_type": "code",
   "execution_count": 15,
   "metadata": {},
   "outputs": [],
   "source": [
    "df_ru[\"name\"] = df_ru[\"name\"].apply(lambda x: x[\"ru\"])\n",
    "df_ru[\"headimg\"] = df_ru[\"headimg\"].apply(lambda x: x[\"ru\"])\n",
    "df_ru[\"seakeys\"] = df_ru[\"seakeys\"].apply(lambda x: x[\"ru\"])\n",
    "df_ru[\"text\"] = df_ru[\"text\"].apply(lambda x: x[\"ru\"])\n",
    "df_ru[\"textmore\"] = df_ru[\"textmore\"].apply(lambda x: x[\"ru\"])"
   ]
  },
  {
   "cell_type": "code",
   "execution_count": 16,
   "metadata": {},
   "outputs": [],
   "source": [
    "df_eng = df.copy()\n",
    "df_eng[\"name\"] = df_eng[\"name\"].apply(lambda x: x[\"ru\"])\n",
    "df_eng[\"headimg\"] = df_eng[\"headimg\"].apply(lambda x: x[\"ru\"])\n",
    "df_eng[\"seakeys\"] = df_eng[\"seakeys\"].apply(lambda x: x[\"ru\"])\n",
    "df_eng[\"text\"] = df_eng[\"text\"].apply(lambda x: x[\"ru\"])\n",
    "df_eng[\"textmore\"] = df_eng[\"textmore\"].apply(lambda x: x[\"ru\"])"
   ]
  },
  {
   "cell_type": "code",
   "execution_count": 17,
   "metadata": {},
   "outputs": [],
   "source": [
    "df_ru.T.to_json(\"./parsed/collects_rus.json\")\n",
    "df_eng.T.to_json(\"./parsed/collects_eng.json\")"
   ]
  },
  {
   "cell_type": "markdown",
   "metadata": {},
   "source": [
    "### Buildings"
   ]
  },
  {
   "cell_type": "code",
   "execution_count": 3,
   "metadata": {},
   "outputs": [],
   "source": [
    "df = pd.read_json('./old/buildings.json').T"
   ]
  },
  {
   "cell_type": "code",
   "execution_count": 4,
   "metadata": {},
   "outputs": [
    {
     "data": {
      "text/plain": [
       "Index(['adress', 'appl_number', 'appl_number_tablet', 'audiog', 'brief',\n",
       "       'closed', 'excursions', 'exposition', 'floors', 'img', 'img_header',\n",
       "       'invalid', 'm_sort', 'menu', 'name', 'panorama', 'path', 'picture',\n",
       "       'rate', 'rules', 'schedule', 'seakeys', 'searcha', 'tel', 'text',\n",
       "       'textmore', 'ticket', 'timeline', 'virtual_tour', 'yamapcoords'],\n",
       "      dtype='object')"
      ]
     },
     "execution_count": 4,
     "metadata": {},
     "output_type": "execute_result"
    }
   ],
   "source": [
    "df.columns"
   ]
  },
  {
   "cell_type": "code",
   "execution_count": 5,
   "metadata": {},
   "outputs": [],
   "source": [
    "df_ru = df.copy()\n",
    "df_ru[\"adress\"] = df_ru[\"adress\"].apply(lambda x: x[\"ru\"])\n",
    "df_ru[\"brief\"] = df_ru[\"brief\"].apply(lambda x: x[\"ru\"])\n",
    "df_ru[\"audiog\"] = df_ru[\"audiog\"].apply(lambda x: x[\"ru\"])\n",
    "df_ru[\"excursions\"] = df_ru[\"excursions\"].apply(lambda x: x[\"ru\"])\n",
    "df_ru[\"seakeys\"] = df_ru[\"seakeys\"].apply(lambda x: x[\"ru\"])\n",
    "df_ru[\"invalid\"] = df_ru[\"invalid\"].apply(lambda x: x[\"ru\"])\n",
    "df_ru[\"menu\"] = df_ru[\"menu\"].apply(lambda x: x[\"ru\"])\n",
    "df_ru[\"name\"] = df_ru[\"name\"].apply(lambda x: x[\"ru\"])\n",
    "df_ru[\"rules\"] = df_ru[\"rules\"].apply(lambda x: x[\"ru\"])\n",
    "df_ru[\"searcha\"] = df_ru[\"searcha\"].apply(lambda x: x[\"ru\"])\n",
    "df_ru[\"tel\"] = df_ru[\"tel\"].apply(lambda x: x[\"ru\"])\n",
    "df_ru[\"timeline\"] = df_ru[\"timeline\"].apply(lambda x: x[\"ru\"])\n",
    "df_ru[\"textmore\"] = df_ru[\"textmore\"].apply(lambda x: x[\"ru\"])"
   ]
  },
  {
   "cell_type": "code",
   "execution_count": 6,
   "metadata": {},
   "outputs": [],
   "source": [
    "df_eng = df.copy()\n",
    "df_eng[\"adress\"] = df_eng[\"adress\"].apply(lambda x: x[\"en\"])\n",
    "df_eng[\"brief\"] = df_eng[\"brief\"].apply(lambda x: x[\"en\"])\n",
    "df_eng[\"audiog\"] = df_eng[\"audiog\"].apply(lambda x: x[\"en\"])\n",
    "df_eng[\"excursions\"] = df_eng[\"excursions\"].apply(lambda x: x[\"en\"])\n",
    "df_eng[\"seakeys\"] = df_eng[\"seakeys\"].apply(lambda x: x[\"en\"])\n",
    "df_eng[\"invalid\"] = df_eng[\"invalid\"].apply(lambda x: x[\"en\"])\n",
    "df_eng[\"menu\"] = df_eng[\"menu\"].apply(lambda x: x[\"en\"])\n",
    "df_eng[\"name\"] = df_eng[\"name\"].apply(lambda x: x[\"en\"])\n",
    "df_eng[\"rules\"] = df_eng[\"rules\"].apply(lambda x: x[\"en\"])\n",
    "df_eng[\"searcha\"] = df_eng[\"searcha\"].apply(lambda x: x[\"en\"])\n",
    "df_eng[\"tel\"] = df_eng[\"tel\"].apply(lambda x: x[\"ru\"])\n",
    "df_eng[\"timeline\"] = df_eng[\"timeline\"].apply(lambda x: x[\"en\"])\n",
    "df_eng[\"textmore\"] = df_eng[\"textmore\"].apply(lambda x: x[\"ru\"])"
   ]
  },
  {
   "cell_type": "code",
   "execution_count": 7,
   "metadata": {},
   "outputs": [],
   "source": [
    "df_ru.T.to_json(\"./parsed/buildings_rus.json\")\n",
    "df_eng.T.to_json(\"./parsed/buildings_eng.json\")"
   ]
  },
  {
   "cell_type": "code",
   "execution_count": null,
   "metadata": {},
   "outputs": [],
   "source": []
  }
 ],
 "metadata": {
  "kernelspec": {
   "display_name": "Python 3",
   "language": "python",
   "name": "python3"
  },
  "language_info": {
   "codemirror_mode": {
    "name": "ipython",
    "version": 3
   },
   "file_extension": ".py",
   "mimetype": "text/x-python",
   "name": "python",
   "nbconvert_exporter": "python",
   "pygments_lexer": "ipython3",
   "version": "3.7.3"
  }
 },
 "nbformat": 4,
 "nbformat_minor": 2
}
